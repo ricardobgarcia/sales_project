{
 "cells": [
  {
   "cell_type": "markdown",
   "id": "39c673fc",
   "metadata": {},
   "source": [
    "# Project Summary\n",
    "\n",
    "Ricardo B. Garcia (rbgarcia@gmail.com)"
   ]
  },
  {
   "cell_type": "markdown",
   "id": "fea9646b",
   "metadata": {},
   "source": [
    "**The dataset:** https://www.kaggle.com/competitions/rossmann-store-sales/data\n",
    "\n",
    "|    Attribute    |                         Meaning                         |\n",
    "| :-------------: | :----------------------------------------------------------: |\n",
    "|       id             |An Id that represents a (Store, Date) duple within the test set|\n",
    "|      store           |A unique Id for each store|\n",
    "|      sales           |The turnover for any given day (this is what you are predicting)|\n",
    "|    customers         |The number of customers on a given day|\n",
    "|    open              |An indicator for whether the store was open: 0 = closed, 1 = open|\n",
    "|   state_holiday      |Indicates a state holiday. Normally all stores, with few exceptions, are closed on state holidays. Note that all schools are closed on public holidays and weekends. a = public holiday, b = Easter holiday, c = Christmas, 0 = None|\n",
    "|    school_holiday    |Indicates if the (Store, Date) was affected by the closure of public schools     |\n",
    "|     store_type       |Differentiates between 4 different store models: a, b, c, d|\n",
    "|   assortment         |Describes an assortment level: a = basic, b = extra, c = extended|\n",
    "| competition_distance |Distance in meters to the nearest competitor store|\n",
    "|competition_open_since|Gives the approximate year and month of the time the nearest competitor was opened|\n",
    "|      promo           |Indicates whether a store is running a promo on that day|\n",
    "|  promo2              |Promo2 is a continuing and consecutive promotion for some stores: 0 = store is not participating, 1 = store is participating|\n",
    "|  promo2_since        |Describes the year and calendar week when the store started participating in Promo2|\n",
    "|    promo_interval    |Describes the consecutive intervals Promo2 is started, naming the months the promotion is started anew. E.g. \"Feb,May,Aug,Nov\" means each round starts in February, May, August, November of any given year for that store|"
   ]
  },
  {
   "cell_type": "markdown",
   "id": "05f9b6a7",
   "metadata": {},
   "source": [
    "# Project development"
   ]
  },
  {
   "cell_type": "markdown",
   "id": "150a94bc",
   "metadata": {},
   "source": [
    "# Libraries"
   ]
  },
  {
   "cell_type": "code",
   "execution_count": 1,
   "id": "4d26ad99",
   "metadata": {},
   "outputs": [],
   "source": [
    "import inflection\n",
    "import pandas as pd\n",
    "import numpy as np\n",
    "import matplotlib.pyplot as plt\n",
    "from matplotlib import gridspec\n",
    "import seaborn as sns\n",
    "import datetime as dt"
   ]
  },
  {
   "cell_type": "markdown",
   "id": "2c4d66a0",
   "metadata": {},
   "source": [
    "## General settings"
   ]
  },
  {
   "cell_type": "code",
   "execution_count": 2,
   "id": "bc733b11",
   "metadata": {},
   "outputs": [],
   "source": [
    "# Values up to 2 decimals 0.00\n",
    "pd.set_option('display.float_format', '{:.2f}'.format )\n",
    "# plots with seaborn style\n",
    "plt.style.use('seaborn')"
   ]
  },
  {
   "cell_type": "markdown",
   "id": "d86058ed",
   "metadata": {},
   "source": [
    "# Data\n",
    "\n",
    "Here, we load the original datasets."
   ]
  },
  {
   "cell_type": "code",
   "execution_count": 3,
   "id": "de236c95",
   "metadata": {},
   "outputs": [],
   "source": [
    "df_sales_raw = pd.read_csv('data/train.csv', low_memory=False)\n",
    "df_stores_raw = pd.read_csv('data/store.csv', low_memory=False)\n",
    "\n",
    "# Merge datasets\n",
    "data = pd.merge(df_sales_raw, df_stores_raw, how='left', on='Store')\n",
    "\n",
    "# \n",
    "del df_sales_raw\n",
    "del df_stores_raw"
   ]
  },
  {
   "cell_type": "code",
   "execution_count": 4,
   "id": "da78aa00",
   "metadata": {},
   "outputs": [
    {
     "name": "stdout",
     "output_type": "stream",
     "text": [
      "Rows: 1017209\n",
      "Columns: 18\n"
     ]
    },
    {
     "data": {
      "text/html": [
       "<div>\n",
       "<style scoped>\n",
       "    .dataframe tbody tr th:only-of-type {\n",
       "        vertical-align: middle;\n",
       "    }\n",
       "\n",
       "    .dataframe tbody tr th {\n",
       "        vertical-align: top;\n",
       "    }\n",
       "\n",
       "    .dataframe thead th {\n",
       "        text-align: right;\n",
       "    }\n",
       "</style>\n",
       "<table border=\"1\" class=\"dataframe\">\n",
       "  <thead>\n",
       "    <tr style=\"text-align: right;\">\n",
       "      <th></th>\n",
       "      <th>Store</th>\n",
       "      <th>DayOfWeek</th>\n",
       "      <th>Date</th>\n",
       "      <th>Sales</th>\n",
       "      <th>Customers</th>\n",
       "      <th>Open</th>\n",
       "      <th>Promo</th>\n",
       "      <th>StateHoliday</th>\n",
       "      <th>SchoolHoliday</th>\n",
       "      <th>StoreType</th>\n",
       "      <th>Assortment</th>\n",
       "      <th>CompetitionDistance</th>\n",
       "      <th>CompetitionOpenSinceMonth</th>\n",
       "      <th>CompetitionOpenSinceYear</th>\n",
       "      <th>Promo2</th>\n",
       "      <th>Promo2SinceWeek</th>\n",
       "      <th>Promo2SinceYear</th>\n",
       "      <th>PromoInterval</th>\n",
       "    </tr>\n",
       "  </thead>\n",
       "  <tbody>\n",
       "    <tr>\n",
       "      <th>0</th>\n",
       "      <td>1</td>\n",
       "      <td>5</td>\n",
       "      <td>2015-07-31</td>\n",
       "      <td>5263</td>\n",
       "      <td>555</td>\n",
       "      <td>1</td>\n",
       "      <td>1</td>\n",
       "      <td>0</td>\n",
       "      <td>1</td>\n",
       "      <td>c</td>\n",
       "      <td>a</td>\n",
       "      <td>1270.00</td>\n",
       "      <td>9.00</td>\n",
       "      <td>2008.00</td>\n",
       "      <td>0</td>\n",
       "      <td>NaN</td>\n",
       "      <td>NaN</td>\n",
       "      <td>NaN</td>\n",
       "    </tr>\n",
       "    <tr>\n",
       "      <th>1</th>\n",
       "      <td>2</td>\n",
       "      <td>5</td>\n",
       "      <td>2015-07-31</td>\n",
       "      <td>6064</td>\n",
       "      <td>625</td>\n",
       "      <td>1</td>\n",
       "      <td>1</td>\n",
       "      <td>0</td>\n",
       "      <td>1</td>\n",
       "      <td>a</td>\n",
       "      <td>a</td>\n",
       "      <td>570.00</td>\n",
       "      <td>11.00</td>\n",
       "      <td>2007.00</td>\n",
       "      <td>1</td>\n",
       "      <td>13.00</td>\n",
       "      <td>2010.00</td>\n",
       "      <td>Jan,Apr,Jul,Oct</td>\n",
       "    </tr>\n",
       "    <tr>\n",
       "      <th>2</th>\n",
       "      <td>3</td>\n",
       "      <td>5</td>\n",
       "      <td>2015-07-31</td>\n",
       "      <td>8314</td>\n",
       "      <td>821</td>\n",
       "      <td>1</td>\n",
       "      <td>1</td>\n",
       "      <td>0</td>\n",
       "      <td>1</td>\n",
       "      <td>a</td>\n",
       "      <td>a</td>\n",
       "      <td>14130.00</td>\n",
       "      <td>12.00</td>\n",
       "      <td>2006.00</td>\n",
       "      <td>1</td>\n",
       "      <td>14.00</td>\n",
       "      <td>2011.00</td>\n",
       "      <td>Jan,Apr,Jul,Oct</td>\n",
       "    </tr>\n",
       "    <tr>\n",
       "      <th>3</th>\n",
       "      <td>4</td>\n",
       "      <td>5</td>\n",
       "      <td>2015-07-31</td>\n",
       "      <td>13995</td>\n",
       "      <td>1498</td>\n",
       "      <td>1</td>\n",
       "      <td>1</td>\n",
       "      <td>0</td>\n",
       "      <td>1</td>\n",
       "      <td>c</td>\n",
       "      <td>c</td>\n",
       "      <td>620.00</td>\n",
       "      <td>9.00</td>\n",
       "      <td>2009.00</td>\n",
       "      <td>0</td>\n",
       "      <td>NaN</td>\n",
       "      <td>NaN</td>\n",
       "      <td>NaN</td>\n",
       "    </tr>\n",
       "    <tr>\n",
       "      <th>4</th>\n",
       "      <td>5</td>\n",
       "      <td>5</td>\n",
       "      <td>2015-07-31</td>\n",
       "      <td>4822</td>\n",
       "      <td>559</td>\n",
       "      <td>1</td>\n",
       "      <td>1</td>\n",
       "      <td>0</td>\n",
       "      <td>1</td>\n",
       "      <td>a</td>\n",
       "      <td>a</td>\n",
       "      <td>29910.00</td>\n",
       "      <td>4.00</td>\n",
       "      <td>2015.00</td>\n",
       "      <td>0</td>\n",
       "      <td>NaN</td>\n",
       "      <td>NaN</td>\n",
       "      <td>NaN</td>\n",
       "    </tr>\n",
       "  </tbody>\n",
       "</table>\n",
       "</div>"
      ],
      "text/plain": [
       "   Store  DayOfWeek        Date  Sales  Customers  Open  Promo StateHoliday  \\\n",
       "0      1          5  2015-07-31   5263        555     1      1            0   \n",
       "1      2          5  2015-07-31   6064        625     1      1            0   \n",
       "2      3          5  2015-07-31   8314        821     1      1            0   \n",
       "3      4          5  2015-07-31  13995       1498     1      1            0   \n",
       "4      5          5  2015-07-31   4822        559     1      1            0   \n",
       "\n",
       "   SchoolHoliday StoreType Assortment  CompetitionDistance  \\\n",
       "0              1         c          a              1270.00   \n",
       "1              1         a          a               570.00   \n",
       "2              1         a          a             14130.00   \n",
       "3              1         c          c               620.00   \n",
       "4              1         a          a             29910.00   \n",
       "\n",
       "   CompetitionOpenSinceMonth  CompetitionOpenSinceYear  Promo2  \\\n",
       "0                       9.00                   2008.00       0   \n",
       "1                      11.00                   2007.00       1   \n",
       "2                      12.00                   2006.00       1   \n",
       "3                       9.00                   2009.00       0   \n",
       "4                       4.00                   2015.00       0   \n",
       "\n",
       "   Promo2SinceWeek  Promo2SinceYear    PromoInterval  \n",
       "0              NaN              NaN              NaN  \n",
       "1            13.00          2010.00  Jan,Apr,Jul,Oct  \n",
       "2            14.00          2011.00  Jan,Apr,Jul,Oct  \n",
       "3              NaN              NaN              NaN  \n",
       "4              NaN              NaN              NaN  "
      ]
     },
     "metadata": {},
     "output_type": "display_data"
    }
   ],
   "source": [
    "print('Rows:', data.shape[0])\n",
    "print('Columns:', data.shape[1])\n",
    "display(data.head())"
   ]
  },
  {
   "cell_type": "markdown",
   "id": "8a934abd",
   "metadata": {},
   "source": [
    "### Rename columns: from camel case to snake case"
   ]
  },
  {
   "cell_type": "code",
   "execution_count": 5,
   "id": "dc45d477",
   "metadata": {},
   "outputs": [
    {
     "name": "stdout",
     "output_type": "stream",
     "text": [
      "Index(['store', 'day_of_week', 'date', 'sales', 'customers', 'open', 'promo',\n",
      "       'state_holiday', 'school_holiday', 'store_type', 'assortment',\n",
      "       'competition_distance', 'competition_open_since_month',\n",
      "       'competition_open_since_year', 'promo2', 'promo2_since_week',\n",
      "       'promo2_since_year', 'promo_interval'],\n",
      "      dtype='object')\n"
     ]
    }
   ],
   "source": [
    "data.columns = [inflection.underscore(item) for item in data.columns]\n",
    "print(data.columns)"
   ]
  },
  {
   "cell_type": "markdown",
   "id": "1f7516e4",
   "metadata": {},
   "source": [
    "## Data consistency\n",
    "\n",
    "Here, we verify the dataset consistency: data types, duplicates, missing values, number of unique values per column, and range of data distribution. "
   ]
  },
  {
   "cell_type": "markdown",
   "id": "772cd076",
   "metadata": {},
   "source": [
    "### Types"
   ]
  },
  {
   "cell_type": "code",
   "execution_count": 6,
   "id": "a6e12cdc",
   "metadata": {},
   "outputs": [
    {
     "data": {
      "text/html": [
       "<div>\n",
       "<style scoped>\n",
       "    .dataframe tbody tr th:only-of-type {\n",
       "        vertical-align: middle;\n",
       "    }\n",
       "\n",
       "    .dataframe tbody tr th {\n",
       "        vertical-align: top;\n",
       "    }\n",
       "\n",
       "    .dataframe thead th {\n",
       "        text-align: right;\n",
       "    }\n",
       "</style>\n",
       "<table border=\"1\" class=\"dataframe\">\n",
       "  <thead>\n",
       "    <tr style=\"text-align: right;\">\n",
       "      <th></th>\n",
       "      <th>column</th>\n",
       "      <th>type</th>\n",
       "      <th>first_row</th>\n",
       "    </tr>\n",
       "  </thead>\n",
       "  <tbody>\n",
       "    <tr>\n",
       "      <th>0</th>\n",
       "      <td>store</td>\n",
       "      <td>int64</td>\n",
       "      <td>1</td>\n",
       "    </tr>\n",
       "    <tr>\n",
       "      <th>1</th>\n",
       "      <td>day_of_week</td>\n",
       "      <td>int64</td>\n",
       "      <td>5</td>\n",
       "    </tr>\n",
       "    <tr>\n",
       "      <th>2</th>\n",
       "      <td>date</td>\n",
       "      <td>object</td>\n",
       "      <td>2015-07-31</td>\n",
       "    </tr>\n",
       "    <tr>\n",
       "      <th>3</th>\n",
       "      <td>sales</td>\n",
       "      <td>int64</td>\n",
       "      <td>5263</td>\n",
       "    </tr>\n",
       "    <tr>\n",
       "      <th>4</th>\n",
       "      <td>customers</td>\n",
       "      <td>int64</td>\n",
       "      <td>555</td>\n",
       "    </tr>\n",
       "    <tr>\n",
       "      <th>5</th>\n",
       "      <td>open</td>\n",
       "      <td>int64</td>\n",
       "      <td>1</td>\n",
       "    </tr>\n",
       "    <tr>\n",
       "      <th>6</th>\n",
       "      <td>promo</td>\n",
       "      <td>int64</td>\n",
       "      <td>1</td>\n",
       "    </tr>\n",
       "    <tr>\n",
       "      <th>7</th>\n",
       "      <td>state_holiday</td>\n",
       "      <td>object</td>\n",
       "      <td>0</td>\n",
       "    </tr>\n",
       "    <tr>\n",
       "      <th>8</th>\n",
       "      <td>school_holiday</td>\n",
       "      <td>int64</td>\n",
       "      <td>1</td>\n",
       "    </tr>\n",
       "    <tr>\n",
       "      <th>9</th>\n",
       "      <td>store_type</td>\n",
       "      <td>object</td>\n",
       "      <td>c</td>\n",
       "    </tr>\n",
       "    <tr>\n",
       "      <th>10</th>\n",
       "      <td>assortment</td>\n",
       "      <td>object</td>\n",
       "      <td>a</td>\n",
       "    </tr>\n",
       "    <tr>\n",
       "      <th>11</th>\n",
       "      <td>competition_distance</td>\n",
       "      <td>float64</td>\n",
       "      <td>1270.00</td>\n",
       "    </tr>\n",
       "    <tr>\n",
       "      <th>12</th>\n",
       "      <td>competition_open_since_month</td>\n",
       "      <td>float64</td>\n",
       "      <td>9.00</td>\n",
       "    </tr>\n",
       "    <tr>\n",
       "      <th>13</th>\n",
       "      <td>competition_open_since_year</td>\n",
       "      <td>float64</td>\n",
       "      <td>2008.00</td>\n",
       "    </tr>\n",
       "    <tr>\n",
       "      <th>14</th>\n",
       "      <td>promo2</td>\n",
       "      <td>int64</td>\n",
       "      <td>0</td>\n",
       "    </tr>\n",
       "    <tr>\n",
       "      <th>15</th>\n",
       "      <td>promo2_since_week</td>\n",
       "      <td>float64</td>\n",
       "      <td>NaN</td>\n",
       "    </tr>\n",
       "    <tr>\n",
       "      <th>16</th>\n",
       "      <td>promo2_since_year</td>\n",
       "      <td>float64</td>\n",
       "      <td>NaN</td>\n",
       "    </tr>\n",
       "    <tr>\n",
       "      <th>17</th>\n",
       "      <td>promo_interval</td>\n",
       "      <td>object</td>\n",
       "      <td>NaN</td>\n",
       "    </tr>\n",
       "  </tbody>\n",
       "</table>\n",
       "</div>"
      ],
      "text/plain": [
       "                          column     type   first_row\n",
       "0                          store    int64           1\n",
       "1                    day_of_week    int64           5\n",
       "2                           date   object  2015-07-31\n",
       "3                          sales    int64        5263\n",
       "4                      customers    int64         555\n",
       "5                           open    int64           1\n",
       "6                          promo    int64           1\n",
       "7                  state_holiday   object           0\n",
       "8                 school_holiday    int64           1\n",
       "9                     store_type   object           c\n",
       "10                    assortment   object           a\n",
       "11          competition_distance  float64     1270.00\n",
       "12  competition_open_since_month  float64        9.00\n",
       "13   competition_open_since_year  float64     2008.00\n",
       "14                        promo2    int64           0\n",
       "15             promo2_since_week  float64         NaN\n",
       "16             promo2_since_year  float64         NaN\n",
       "17                promo_interval   object         NaN"
      ]
     },
     "metadata": {},
     "output_type": "display_data"
    }
   ],
   "source": [
    "dtypes = data.dtypes.reset_index()\n",
    "dtypes.columns = ['column', 'type']\n",
    "dtypes['first_row'] = data.head(1).T.reset_index()[0]\n",
    "display(dtypes)"
   ]
  },
  {
   "cell_type": "markdown",
   "id": "24b55216",
   "metadata": {},
   "source": [
    "<b>Note:</b> The column `date` should be converted to datetime. "
   ]
  },
  {
   "cell_type": "markdown",
   "id": "a0fe3926",
   "metadata": {},
   "source": [
    "### Duplicates"
   ]
  },
  {
   "cell_type": "code",
   "execution_count": 7,
   "id": "02f8a3f3",
   "metadata": {},
   "outputs": [
    {
     "name": "stdout",
     "output_type": "stream",
     "text": [
      "Number of duplicated data: 0\n"
     ]
    }
   ],
   "source": [
    "n_duplicates = data.shape[0] - data.drop_duplicates().shape[0]\n",
    "print('Number of duplicated data:', n_duplicates)"
   ]
  },
  {
   "cell_type": "markdown",
   "id": "cbe17125",
   "metadata": {},
   "source": [
    "<b>Note:</b> No duplicated data."
   ]
  },
  {
   "cell_type": "markdown",
   "id": "6dbd1d24",
   "metadata": {},
   "source": [
    "### Missing"
   ]
  },
  {
   "cell_type": "code",
   "execution_count": 8,
   "id": "42258929",
   "metadata": {},
   "outputs": [
    {
     "data": {
      "text/html": [
       "<div>\n",
       "<style scoped>\n",
       "    .dataframe tbody tr th:only-of-type {\n",
       "        vertical-align: middle;\n",
       "    }\n",
       "\n",
       "    .dataframe tbody tr th {\n",
       "        vertical-align: top;\n",
       "    }\n",
       "\n",
       "    .dataframe thead th {\n",
       "        text-align: right;\n",
       "    }\n",
       "</style>\n",
       "<table border=\"1\" class=\"dataframe\">\n",
       "  <thead>\n",
       "    <tr style=\"text-align: right;\">\n",
       "      <th></th>\n",
       "      <th>column</th>\n",
       "      <th>missing values</th>\n",
       "    </tr>\n",
       "  </thead>\n",
       "  <tbody>\n",
       "    <tr>\n",
       "      <th>0</th>\n",
       "      <td>store</td>\n",
       "      <td>0</td>\n",
       "    </tr>\n",
       "    <tr>\n",
       "      <th>1</th>\n",
       "      <td>day_of_week</td>\n",
       "      <td>0</td>\n",
       "    </tr>\n",
       "    <tr>\n",
       "      <th>2</th>\n",
       "      <td>date</td>\n",
       "      <td>0</td>\n",
       "    </tr>\n",
       "    <tr>\n",
       "      <th>3</th>\n",
       "      <td>sales</td>\n",
       "      <td>0</td>\n",
       "    </tr>\n",
       "    <tr>\n",
       "      <th>4</th>\n",
       "      <td>customers</td>\n",
       "      <td>0</td>\n",
       "    </tr>\n",
       "    <tr>\n",
       "      <th>5</th>\n",
       "      <td>open</td>\n",
       "      <td>0</td>\n",
       "    </tr>\n",
       "    <tr>\n",
       "      <th>6</th>\n",
       "      <td>promo</td>\n",
       "      <td>0</td>\n",
       "    </tr>\n",
       "    <tr>\n",
       "      <th>7</th>\n",
       "      <td>state_holiday</td>\n",
       "      <td>0</td>\n",
       "    </tr>\n",
       "    <tr>\n",
       "      <th>8</th>\n",
       "      <td>school_holiday</td>\n",
       "      <td>0</td>\n",
       "    </tr>\n",
       "    <tr>\n",
       "      <th>9</th>\n",
       "      <td>store_type</td>\n",
       "      <td>0</td>\n",
       "    </tr>\n",
       "    <tr>\n",
       "      <th>10</th>\n",
       "      <td>assortment</td>\n",
       "      <td>0</td>\n",
       "    </tr>\n",
       "    <tr>\n",
       "      <th>11</th>\n",
       "      <td>competition_distance</td>\n",
       "      <td>2642</td>\n",
       "    </tr>\n",
       "    <tr>\n",
       "      <th>12</th>\n",
       "      <td>competition_open_since_month</td>\n",
       "      <td>323348</td>\n",
       "    </tr>\n",
       "    <tr>\n",
       "      <th>13</th>\n",
       "      <td>competition_open_since_year</td>\n",
       "      <td>323348</td>\n",
       "    </tr>\n",
       "    <tr>\n",
       "      <th>14</th>\n",
       "      <td>promo2</td>\n",
       "      <td>0</td>\n",
       "    </tr>\n",
       "    <tr>\n",
       "      <th>15</th>\n",
       "      <td>promo2_since_week</td>\n",
       "      <td>508031</td>\n",
       "    </tr>\n",
       "    <tr>\n",
       "      <th>16</th>\n",
       "      <td>promo2_since_year</td>\n",
       "      <td>508031</td>\n",
       "    </tr>\n",
       "    <tr>\n",
       "      <th>17</th>\n",
       "      <td>promo_interval</td>\n",
       "      <td>508031</td>\n",
       "    </tr>\n",
       "  </tbody>\n",
       "</table>\n",
       "</div>"
      ],
      "text/plain": [
       "                          column  missing values\n",
       "0                          store               0\n",
       "1                    day_of_week               0\n",
       "2                           date               0\n",
       "3                          sales               0\n",
       "4                      customers               0\n",
       "5                           open               0\n",
       "6                          promo               0\n",
       "7                  state_holiday               0\n",
       "8                 school_holiday               0\n",
       "9                     store_type               0\n",
       "10                    assortment               0\n",
       "11          competition_distance            2642\n",
       "12  competition_open_since_month          323348\n",
       "13   competition_open_since_year          323348\n",
       "14                        promo2               0\n",
       "15             promo2_since_week          508031\n",
       "16             promo2_since_year          508031\n",
       "17                promo_interval          508031"
      ]
     },
     "metadata": {},
     "output_type": "display_data"
    }
   ],
   "source": [
    "df_missing = data.isna().sum().reset_index()\n",
    "df_missing.columns = ['column', 'missing values']\n",
    "display(df_missing)"
   ]
  },
  {
   "cell_type": "markdown",
   "id": "d0a60666",
   "metadata": {},
   "source": [
    "#### Missing data\n",
    "`competition_distance`: 2642 cases do not have information about distance to the nearest competitor store. Treatment: we may assume the absence of near competitor stores, so we can set a distance that is larger than the observed near competitors. \n",
    "\n",
    "`competition_open`: 323348 cases do not have the approximate year and month of the time the nearest competitor was opened\n",
    "\n",
    "`promo2_since[month/year]` and `promo_interval`: 508031 cases do not have information.\n",
    "\n"
   ]
  },
  {
   "cell_type": "markdown",
   "id": "2e19db18",
   "metadata": {},
   "source": [
    "### Unique values\n",
    "\n",
    "Verifying the number of unique values for each column."
   ]
  },
  {
   "cell_type": "code",
   "execution_count": 9,
   "id": "eac3deb7",
   "metadata": {},
   "outputs": [
    {
     "data": {
      "text/html": [
       "<div>\n",
       "<style scoped>\n",
       "    .dataframe tbody tr th:only-of-type {\n",
       "        vertical-align: middle;\n",
       "    }\n",
       "\n",
       "    .dataframe tbody tr th {\n",
       "        vertical-align: top;\n",
       "    }\n",
       "\n",
       "    .dataframe thead th {\n",
       "        text-align: right;\n",
       "    }\n",
       "</style>\n",
       "<table border=\"1\" class=\"dataframe\">\n",
       "  <thead>\n",
       "    <tr style=\"text-align: right;\">\n",
       "      <th></th>\n",
       "      <th>column</th>\n",
       "      <th>unique values</th>\n",
       "      <th>values</th>\n",
       "    </tr>\n",
       "  </thead>\n",
       "  <tbody>\n",
       "    <tr>\n",
       "      <th>8</th>\n",
       "      <td>school_holiday</td>\n",
       "      <td>2</td>\n",
       "      <td>[0, 1]</td>\n",
       "    </tr>\n",
       "    <tr>\n",
       "      <th>14</th>\n",
       "      <td>promo2</td>\n",
       "      <td>2</td>\n",
       "      <td>[0, 1]</td>\n",
       "    </tr>\n",
       "    <tr>\n",
       "      <th>6</th>\n",
       "      <td>promo</td>\n",
       "      <td>2</td>\n",
       "      <td>[0, 1]</td>\n",
       "    </tr>\n",
       "    <tr>\n",
       "      <th>5</th>\n",
       "      <td>open</td>\n",
       "      <td>2</td>\n",
       "      <td>[0, 1]</td>\n",
       "    </tr>\n",
       "    <tr>\n",
       "      <th>10</th>\n",
       "      <td>assortment</td>\n",
       "      <td>3</td>\n",
       "      <td>['a', 'b', 'c']</td>\n",
       "    </tr>\n",
       "    <tr>\n",
       "      <th>17</th>\n",
       "      <td>promo_interval</td>\n",
       "      <td>3</td>\n",
       "      <td>['Feb,May,Aug,Nov', 'Jan,Apr,Jul,Oct', 'Mar,Ju...</td>\n",
       "    </tr>\n",
       "    <tr>\n",
       "      <th>7</th>\n",
       "      <td>state_holiday</td>\n",
       "      <td>4</td>\n",
       "      <td>['0', 'a', 'b', 'c']</td>\n",
       "    </tr>\n",
       "    <tr>\n",
       "      <th>9</th>\n",
       "      <td>store_type</td>\n",
       "      <td>4</td>\n",
       "      <td>['a', 'b', 'c', 'd']</td>\n",
       "    </tr>\n",
       "    <tr>\n",
       "      <th>16</th>\n",
       "      <td>promo2_since_year</td>\n",
       "      <td>7</td>\n",
       "      <td>NaN</td>\n",
       "    </tr>\n",
       "    <tr>\n",
       "      <th>1</th>\n",
       "      <td>day_of_week</td>\n",
       "      <td>7</td>\n",
       "      <td>NaN</td>\n",
       "    </tr>\n",
       "    <tr>\n",
       "      <th>12</th>\n",
       "      <td>competition_open_since_month</td>\n",
       "      <td>12</td>\n",
       "      <td>NaN</td>\n",
       "    </tr>\n",
       "    <tr>\n",
       "      <th>13</th>\n",
       "      <td>competition_open_since_year</td>\n",
       "      <td>23</td>\n",
       "      <td>NaN</td>\n",
       "    </tr>\n",
       "    <tr>\n",
       "      <th>15</th>\n",
       "      <td>promo2_since_week</td>\n",
       "      <td>24</td>\n",
       "      <td>NaN</td>\n",
       "    </tr>\n",
       "    <tr>\n",
       "      <th>11</th>\n",
       "      <td>competition_distance</td>\n",
       "      <td>654</td>\n",
       "      <td>NaN</td>\n",
       "    </tr>\n",
       "    <tr>\n",
       "      <th>2</th>\n",
       "      <td>date</td>\n",
       "      <td>942</td>\n",
       "      <td>NaN</td>\n",
       "    </tr>\n",
       "    <tr>\n",
       "      <th>0</th>\n",
       "      <td>store</td>\n",
       "      <td>1115</td>\n",
       "      <td>NaN</td>\n",
       "    </tr>\n",
       "    <tr>\n",
       "      <th>4</th>\n",
       "      <td>customers</td>\n",
       "      <td>4086</td>\n",
       "      <td>NaN</td>\n",
       "    </tr>\n",
       "    <tr>\n",
       "      <th>3</th>\n",
       "      <td>sales</td>\n",
       "      <td>21734</td>\n",
       "      <td>NaN</td>\n",
       "    </tr>\n",
       "  </tbody>\n",
       "</table>\n",
       "</div>"
      ],
      "text/plain": [
       "                          column  unique values  \\\n",
       "8                 school_holiday              2   \n",
       "14                        promo2              2   \n",
       "6                          promo              2   \n",
       "5                           open              2   \n",
       "10                    assortment              3   \n",
       "17                promo_interval              3   \n",
       "7                  state_holiday              4   \n",
       "9                     store_type              4   \n",
       "16             promo2_since_year              7   \n",
       "1                    day_of_week              7   \n",
       "12  competition_open_since_month             12   \n",
       "13   competition_open_since_year             23   \n",
       "15             promo2_since_week             24   \n",
       "11          competition_distance            654   \n",
       "2                           date            942   \n",
       "0                          store           1115   \n",
       "4                      customers           4086   \n",
       "3                          sales          21734   \n",
       "\n",
       "                                               values  \n",
       "8                                              [0, 1]  \n",
       "14                                             [0, 1]  \n",
       "6                                              [0, 1]  \n",
       "5                                              [0, 1]  \n",
       "10                                    ['a', 'b', 'c']  \n",
       "17  ['Feb,May,Aug,Nov', 'Jan,Apr,Jul,Oct', 'Mar,Ju...  \n",
       "7                                ['0', 'a', 'b', 'c']  \n",
       "9                                ['a', 'b', 'c', 'd']  \n",
       "16                                                NaN  \n",
       "1                                                 NaN  \n",
       "12                                                NaN  \n",
       "13                                                NaN  \n",
       "15                                                NaN  \n",
       "11                                                NaN  \n",
       "2                                                 NaN  \n",
       "0                                                 NaN  \n",
       "4                                                 NaN  \n",
       "3                                                 NaN  "
      ]
     },
     "metadata": {},
     "output_type": "display_data"
    }
   ],
   "source": [
    "# Create DF with number of unique values\n",
    "df_unique = data.nunique().reset_index()\n",
    "df_unique.columns = ['column', 'unique values']\n",
    "df_unique.sort_values('unique values', inplace=True)\n",
    "\n",
    "# Add a column with the unique values if .nunique() <= 4 (less or equal 4)\n",
    "loe_4 = df_unique[df_unique['unique values']<=4].index # get column indexes\n",
    "for c in loe_4:\n",
    "    col = df_unique.loc[c,'column']\n",
    "    df_unique.loc[c, 'values'] = str(sorted(data.loc[:, col].dropna().unique()))\n",
    "df_unique\n",
    "\n",
    "display(df_unique)"
   ]
  },
  {
   "cell_type": "markdown",
   "id": "c0c5b3cf",
   "metadata": {},
   "source": [
    "### Data distributions"
   ]
  },
  {
   "cell_type": "code",
   "execution_count": 10,
   "id": "5349dab6",
   "metadata": {},
   "outputs": [
    {
     "data": {
      "text/html": [
       "<div>\n",
       "<style scoped>\n",
       "    .dataframe tbody tr th:only-of-type {\n",
       "        vertical-align: middle;\n",
       "    }\n",
       "\n",
       "    .dataframe tbody tr th {\n",
       "        vertical-align: top;\n",
       "    }\n",
       "\n",
       "    .dataframe thead th {\n",
       "        text-align: right;\n",
       "    }\n",
       "</style>\n",
       "<table border=\"1\" class=\"dataframe\">\n",
       "  <thead>\n",
       "    <tr style=\"text-align: right;\">\n",
       "      <th></th>\n",
       "      <th>min</th>\n",
       "      <th>25%</th>\n",
       "      <th>50%</th>\n",
       "      <th>75%</th>\n",
       "      <th>max</th>\n",
       "    </tr>\n",
       "  </thead>\n",
       "  <tbody>\n",
       "    <tr>\n",
       "      <th>sales</th>\n",
       "      <td>0.00</td>\n",
       "      <td>3727.00</td>\n",
       "      <td>5744.00</td>\n",
       "      <td>7856.00</td>\n",
       "      <td>41551.00</td>\n",
       "    </tr>\n",
       "    <tr>\n",
       "      <th>customers</th>\n",
       "      <td>0.00</td>\n",
       "      <td>405.00</td>\n",
       "      <td>609.00</td>\n",
       "      <td>837.00</td>\n",
       "      <td>7388.00</td>\n",
       "    </tr>\n",
       "    <tr>\n",
       "      <th>competition_distance</th>\n",
       "      <td>20.00</td>\n",
       "      <td>710.00</td>\n",
       "      <td>2330.00</td>\n",
       "      <td>6890.00</td>\n",
       "      <td>75860.00</td>\n",
       "    </tr>\n",
       "    <tr>\n",
       "      <th>competition_open_since_year</th>\n",
       "      <td>1900.00</td>\n",
       "      <td>2006.00</td>\n",
       "      <td>2010.00</td>\n",
       "      <td>2013.00</td>\n",
       "      <td>2015.00</td>\n",
       "    </tr>\n",
       "    <tr>\n",
       "      <th>promo2_since_week</th>\n",
       "      <td>1.00</td>\n",
       "      <td>13.00</td>\n",
       "      <td>22.00</td>\n",
       "      <td>37.00</td>\n",
       "      <td>50.00</td>\n",
       "    </tr>\n",
       "    <tr>\n",
       "      <th>promo2_since_year</th>\n",
       "      <td>2009.00</td>\n",
       "      <td>2011.00</td>\n",
       "      <td>2012.00</td>\n",
       "      <td>2013.00</td>\n",
       "      <td>2015.00</td>\n",
       "    </tr>\n",
       "  </tbody>\n",
       "</table>\n",
       "</div>"
      ],
      "text/plain": [
       "                                min     25%     50%     75%      max\n",
       "sales                          0.00 3727.00 5744.00 7856.00 41551.00\n",
       "customers                      0.00  405.00  609.00  837.00  7388.00\n",
       "competition_distance          20.00  710.00 2330.00 6890.00 75860.00\n",
       "competition_open_since_year 1900.00 2006.00 2010.00 2013.00  2015.00\n",
       "promo2_since_week              1.00   13.00   22.00   37.00    50.00\n",
       "promo2_since_year           2009.00 2011.00 2012.00 2013.00  2015.00"
      ]
     },
     "metadata": {},
     "output_type": "display_data"
    }
   ],
   "source": [
    "to_drop = ['store', 'day_of_week', 'open', 'promo', \n",
    "           'school_holiday', 'competition_open_since_month', 'promo2']\n",
    "description = data.drop(to_drop, axis=1).describe().loc[['min', '25%', '50%', '75%', 'max']].T\n",
    "display(description)"
   ]
  },
  {
   "cell_type": "markdown",
   "id": "ea584dba",
   "metadata": {},
   "source": [
    "# Data transformation\n",
    "\n",
    "Here, we implement data transformation according to the data consistency verification and the project's assumptions."
   ]
  },
  {
   "cell_type": "markdown",
   "id": "369611cb",
   "metadata": {},
   "source": [
    "### Data type adjustment"
   ]
  },
  {
   "cell_type": "code",
   "execution_count": 11,
   "id": "8f388b8d",
   "metadata": {},
   "outputs": [
    {
     "data": {
      "text/plain": [
       "date    datetime64[ns]\n",
       "dtype: object"
      ]
     },
     "metadata": {},
     "output_type": "display_data"
    },
    {
     "data": {
      "text/html": [
       "<div>\n",
       "<style scoped>\n",
       "    .dataframe tbody tr th:only-of-type {\n",
       "        vertical-align: middle;\n",
       "    }\n",
       "\n",
       "    .dataframe tbody tr th {\n",
       "        vertical-align: top;\n",
       "    }\n",
       "\n",
       "    .dataframe thead th {\n",
       "        text-align: right;\n",
       "    }\n",
       "</style>\n",
       "<table border=\"1\" class=\"dataframe\">\n",
       "  <thead>\n",
       "    <tr style=\"text-align: right;\">\n",
       "      <th></th>\n",
       "      <th>date</th>\n",
       "    </tr>\n",
       "  </thead>\n",
       "  <tbody>\n",
       "    <tr>\n",
       "      <th>0</th>\n",
       "      <td>2015-07-31</td>\n",
       "    </tr>\n",
       "    <tr>\n",
       "      <th>1</th>\n",
       "      <td>2015-07-31</td>\n",
       "    </tr>\n",
       "    <tr>\n",
       "      <th>2</th>\n",
       "      <td>2015-07-31</td>\n",
       "    </tr>\n",
       "  </tbody>\n",
       "</table>\n",
       "</div>"
      ],
      "text/plain": [
       "        date\n",
       "0 2015-07-31\n",
       "1 2015-07-31\n",
       "2 2015-07-31"
      ]
     },
     "metadata": {},
     "output_type": "display_data"
    }
   ],
   "source": [
    "# Adjusting dates\n",
    "data['date'] = pd.to_datetime(data['date'])\n",
    "\n",
    "# Verifying\n",
    "display(data[['date']].dtypes)\n",
    "display(data[['date']].head(3))"
   ]
  },
  {
   "cell_type": "markdown",
   "id": "6f56ff34",
   "metadata": {},
   "source": [
    "### Treatment of missing data"
   ]
  },
  {
   "cell_type": "markdown",
   "id": "ad951180",
   "metadata": {},
   "source": [
    "#### Competition distance"
   ]
  },
  {
   "cell_type": "code",
   "execution_count": 12,
   "id": "9522cfcb",
   "metadata": {},
   "outputs": [
    {
     "name": "stdout",
     "output_type": "stream",
     "text": [
      "Maximum competition distance observed: 75860.0\n"
     ]
    }
   ],
   "source": [
    "max_distance = data['competition_distance'].max()\n",
    "print('Maximum competition distance observed:', max_distance)"
   ]
  },
  {
   "cell_type": "code",
   "execution_count": 13,
   "id": "0e272398",
   "metadata": {},
   "outputs": [],
   "source": [
    "data.loc[data['competition_distance'].isna(), 'competition_distance'] = 2 * max_distance"
   ]
  },
  {
   "cell_type": "markdown",
   "id": "7bf7c1ad",
   "metadata": {},
   "source": [
    "#### Competition open since month/year\n",
    "if competition_distance == 2 * max_distance"
   ]
  },
  {
   "cell_type": "code",
   "execution_count": 15,
   "id": "7c6d8898",
   "metadata": {},
   "outputs": [
    {
     "name": "stdout",
     "output_type": "stream",
     "text": [
      "Number of stores with missing competition open since month/year: 354\n"
     ]
    }
   ],
   "source": [
    "# Get the stores with missing data\n",
    "stores = sorted(data.loc[data['competition_open_since_month'].isna(), 'store' ].unique())\n",
    "print('Number of stores with missing competition open since month/year:', len(stores))"
   ]
  },
  {
   "cell_type": "code",
   "execution_count": 16,
   "id": "0ca394f7",
   "metadata": {},
   "outputs": [],
   "source": [
    "# Define columns names\n",
    "col1 = 'competition_open_since_month'\n",
    "col2 = 'competition_open_since_year'\n",
    "\n",
    "# Insert\n",
    "for st in stores:\n",
    "    data.loc[data['store'] == st, col1] = data.loc[st,'date'].month\n",
    "    data.loc[data['store'] == st, col2] = data.loc[st,'date'].year"
   ]
  },
  {
   "cell_type": "markdown",
   "id": "72e53a86",
   "metadata": {},
   "source": [
    "#### promo2 since week/year"
   ]
  },
  {
   "cell_type": "code",
   "execution_count": 17,
   "id": "ff630608",
   "metadata": {},
   "outputs": [
    {
     "name": "stdout",
     "output_type": "stream",
     "text": [
      "Number of stores without promo2: 544\n"
     ]
    }
   ],
   "source": [
    "stores_wo_promo2 = sorted(data.loc[data['promo2']==0, 'store'].unique())\n",
    "print('Number of stores without promo2:', len(stores_wo_promo2))"
   ]
  },
  {
   "cell_type": "code",
   "execution_count": 18,
   "id": "e63e109e",
   "metadata": {},
   "outputs": [],
   "source": [
    "# Define columns names\n",
    "col1 = 'promo2_since_week'\n",
    "col2 = 'promo2_since_year'\n",
    "\n",
    "# Insert\n",
    "data.loc[data['promo2']==0, col1] = data.loc[data['promo2']==0, 'date'].dt.isocalendar().week\n",
    "data.loc[data['promo2']==0, col2] = data.loc[data['promo2']==0, 'date'].dt.isocalendar().year"
   ]
  },
  {
   "cell_type": "markdown",
   "id": "5a6c3c41",
   "metadata": {},
   "source": [
    "#### promo interval"
   ]
  },
  {
   "cell_type": "code",
   "execution_count": 19,
   "id": "6d690b76",
   "metadata": {},
   "outputs": [],
   "source": [
    "month_map = {1: 'Jan',  2: 'Feb',  3: 'Mar',  4: 'Apr',  5: 'May',  6: 'Jun',  \n",
    "             7: 'Jul',  8: 'Aug',  9: 'Sep',  10: 'Oct', 11: 'Nov', 12: 'Dec'}\n",
    "\n",
    "data['month_map'] = data['date'].dt.month.map( month_map )"
   ]
  },
  {
   "cell_type": "code",
   "execution_count": 20,
   "id": "bc48b4ff",
   "metadata": {},
   "outputs": [],
   "source": [
    "# Fillna\n",
    "data['promo_interval'].fillna(0, inplace=True )"
   ]
  },
  {
   "cell_type": "code",
   "execution_count": 21,
   "id": "9a4df779",
   "metadata": {},
   "outputs": [],
   "source": [
    "data['is_promo'] = data['promo_interval'].apply(lambda x: 1 if x !=0 else 0)"
   ]
  },
  {
   "cell_type": "markdown",
   "id": "655d2c45",
   "metadata": {},
   "source": [
    "#### Verifying missing data"
   ]
  },
  {
   "cell_type": "code",
   "execution_count": 22,
   "id": "ea5b9516",
   "metadata": {},
   "outputs": [
    {
     "data": {
      "text/plain": [
       "store                           0\n",
       "day_of_week                     0\n",
       "date                            0\n",
       "sales                           0\n",
       "customers                       0\n",
       "open                            0\n",
       "promo                           0\n",
       "state_holiday                   0\n",
       "school_holiday                  0\n",
       "store_type                      0\n",
       "assortment                      0\n",
       "competition_distance            0\n",
       "competition_open_since_month    0\n",
       "competition_open_since_year     0\n",
       "promo2                          0\n",
       "promo2_since_week               0\n",
       "promo2_since_year               0\n",
       "promo_interval                  0\n",
       "month_map                       0\n",
       "is_promo                        0\n",
       "dtype: int64"
      ]
     },
     "execution_count": 22,
     "metadata": {},
     "output_type": "execute_result"
    }
   ],
   "source": [
    "data.isna().sum()"
   ]
  },
  {
   "cell_type": "markdown",
   "id": "82b34ea8",
   "metadata": {},
   "source": [
    "### Feature adjustments"
   ]
  },
  {
   "cell_type": "code",
   "execution_count": 25,
   "id": "3a46eb19",
   "metadata": {},
   "outputs": [],
   "source": [
    "# Year\n",
    "data['year'] = data['date'].dt.year\n",
    "\n",
    "# Month\n",
    "data['month'] = data['date'].dt.month\n",
    "\n",
    "# Day\n",
    "data['day'] = data['date'].dt.day\n",
    "\n",
    "# Week of year\n",
    "data['week_of_year'] = data['date'].dt.isocalendar().week\n",
    "\n",
    "# Competition since\n",
    "col1 = 'competition_open_since_year'\n",
    "col2 = 'competition_open_since_month'\n",
    "data['competition_since'] = pd.to_datetime( data[col1].map(str) + '-' + data[col2].map(str) )\n",
    "\n",
    "#\n",
    "data['competition_time_month'] = ((data['date'] - data['competition_since']).dt.days/30).astype(int)\n",
    "\n",
    "# Promo since\n",
    "col1 = 'promo2_since_year'\n",
    "col2 = 'promo2_since_week'\n",
    "data['promo2_since'] = data[col1].map(str) + '-' + data[col2].map(str) + '-1'\n",
    "data['promo2_since'] = data['promo2_since'].apply( lambda x: dt.datetime.strptime(x, '%Y-%W-%w') - dt.timedelta(days=7))\n",
    "\n",
    "# Assortment\n",
    "data['assortment'] = data['assortment'].map({'a':'basic', \n",
    "                                             'b':'extra', \n",
    "                                             'c':'extended'})\n",
    "\n",
    "# State holiday\n",
    "data['state_holiday'] = data['state_holiday'].map({'0':'regular_day', \n",
    "                                                   'a':'public_holiday', \n",
    "                                                   'b':'easter_holiday', \n",
    "                                                   'c':'christimas_holiday'})"
   ]
  },
  {
   "cell_type": "markdown",
   "id": "94c7d03b",
   "metadata": {},
   "source": [
    "### Adjusting data types"
   ]
  },
  {
   "cell_type": "code",
   "execution_count": 26,
   "id": "d89b828f",
   "metadata": {},
   "outputs": [],
   "source": [
    "data['competition_distance'] = data['competition_distance'].astype(int)\n",
    "data['competition_open_since_month'] = data['competition_open_since_month'].astype(int)\n",
    "data['competition_open_since_year'] = data['competition_open_since_year'].astype(int)\n",
    "data['promo2_since_week'] = data['promo2_since_week'].astype(int)\n",
    "data['promo2_since_year'] = data['promo2_since_year'].astype(int)"
   ]
  },
  {
   "cell_type": "code",
   "execution_count": 27,
   "id": "a7541173",
   "metadata": {},
   "outputs": [
    {
     "data": {
      "text/html": [
       "<div>\n",
       "<style scoped>\n",
       "    .dataframe tbody tr th:only-of-type {\n",
       "        vertical-align: middle;\n",
       "    }\n",
       "\n",
       "    .dataframe tbody tr th {\n",
       "        vertical-align: top;\n",
       "    }\n",
       "\n",
       "    .dataframe thead th {\n",
       "        text-align: right;\n",
       "    }\n",
       "</style>\n",
       "<table border=\"1\" class=\"dataframe\">\n",
       "  <thead>\n",
       "    <tr style=\"text-align: right;\">\n",
       "      <th></th>\n",
       "      <th>column</th>\n",
       "      <th>type</th>\n",
       "      <th>first_row</th>\n",
       "    </tr>\n",
       "  </thead>\n",
       "  <tbody>\n",
       "    <tr>\n",
       "      <th>0</th>\n",
       "      <td>store</td>\n",
       "      <td>int64</td>\n",
       "      <td>1</td>\n",
       "    </tr>\n",
       "    <tr>\n",
       "      <th>1</th>\n",
       "      <td>day_of_week</td>\n",
       "      <td>int64</td>\n",
       "      <td>5</td>\n",
       "    </tr>\n",
       "    <tr>\n",
       "      <th>2</th>\n",
       "      <td>date</td>\n",
       "      <td>datetime64[ns]</td>\n",
       "      <td>2015-07-31 00:00:00</td>\n",
       "    </tr>\n",
       "    <tr>\n",
       "      <th>3</th>\n",
       "      <td>sales</td>\n",
       "      <td>int64</td>\n",
       "      <td>5263</td>\n",
       "    </tr>\n",
       "    <tr>\n",
       "      <th>4</th>\n",
       "      <td>customers</td>\n",
       "      <td>int64</td>\n",
       "      <td>555</td>\n",
       "    </tr>\n",
       "    <tr>\n",
       "      <th>5</th>\n",
       "      <td>open</td>\n",
       "      <td>int64</td>\n",
       "      <td>1</td>\n",
       "    </tr>\n",
       "    <tr>\n",
       "      <th>6</th>\n",
       "      <td>promo</td>\n",
       "      <td>int64</td>\n",
       "      <td>1</td>\n",
       "    </tr>\n",
       "    <tr>\n",
       "      <th>7</th>\n",
       "      <td>state_holiday</td>\n",
       "      <td>object</td>\n",
       "      <td>regular_day</td>\n",
       "    </tr>\n",
       "    <tr>\n",
       "      <th>8</th>\n",
       "      <td>school_holiday</td>\n",
       "      <td>int64</td>\n",
       "      <td>1</td>\n",
       "    </tr>\n",
       "    <tr>\n",
       "      <th>9</th>\n",
       "      <td>store_type</td>\n",
       "      <td>object</td>\n",
       "      <td>c</td>\n",
       "    </tr>\n",
       "    <tr>\n",
       "      <th>10</th>\n",
       "      <td>assortment</td>\n",
       "      <td>object</td>\n",
       "      <td>basic</td>\n",
       "    </tr>\n",
       "    <tr>\n",
       "      <th>11</th>\n",
       "      <td>competition_distance</td>\n",
       "      <td>int64</td>\n",
       "      <td>1270</td>\n",
       "    </tr>\n",
       "    <tr>\n",
       "      <th>12</th>\n",
       "      <td>competition_open_since_month</td>\n",
       "      <td>int64</td>\n",
       "      <td>9</td>\n",
       "    </tr>\n",
       "    <tr>\n",
       "      <th>13</th>\n",
       "      <td>competition_open_since_year</td>\n",
       "      <td>int64</td>\n",
       "      <td>2008</td>\n",
       "    </tr>\n",
       "    <tr>\n",
       "      <th>14</th>\n",
       "      <td>promo2</td>\n",
       "      <td>int64</td>\n",
       "      <td>0</td>\n",
       "    </tr>\n",
       "    <tr>\n",
       "      <th>15</th>\n",
       "      <td>promo2_since_week</td>\n",
       "      <td>int64</td>\n",
       "      <td>31</td>\n",
       "    </tr>\n",
       "    <tr>\n",
       "      <th>16</th>\n",
       "      <td>promo2_since_year</td>\n",
       "      <td>int64</td>\n",
       "      <td>2015</td>\n",
       "    </tr>\n",
       "    <tr>\n",
       "      <th>17</th>\n",
       "      <td>promo_interval</td>\n",
       "      <td>object</td>\n",
       "      <td>0</td>\n",
       "    </tr>\n",
       "    <tr>\n",
       "      <th>18</th>\n",
       "      <td>month_map</td>\n",
       "      <td>object</td>\n",
       "      <td>Jul</td>\n",
       "    </tr>\n",
       "    <tr>\n",
       "      <th>19</th>\n",
       "      <td>is_promo</td>\n",
       "      <td>int64</td>\n",
       "      <td>0</td>\n",
       "    </tr>\n",
       "    <tr>\n",
       "      <th>20</th>\n",
       "      <td>year</td>\n",
       "      <td>int64</td>\n",
       "      <td>2015</td>\n",
       "    </tr>\n",
       "    <tr>\n",
       "      <th>21</th>\n",
       "      <td>month</td>\n",
       "      <td>int64</td>\n",
       "      <td>7</td>\n",
       "    </tr>\n",
       "    <tr>\n",
       "      <th>22</th>\n",
       "      <td>day</td>\n",
       "      <td>int64</td>\n",
       "      <td>31</td>\n",
       "    </tr>\n",
       "    <tr>\n",
       "      <th>23</th>\n",
       "      <td>week_of_year</td>\n",
       "      <td>UInt32</td>\n",
       "      <td>31</td>\n",
       "    </tr>\n",
       "    <tr>\n",
       "      <th>24</th>\n",
       "      <td>competition_since</td>\n",
       "      <td>datetime64[ns]</td>\n",
       "      <td>2008-09-01 00:00:00</td>\n",
       "    </tr>\n",
       "    <tr>\n",
       "      <th>25</th>\n",
       "      <td>competition_time_month</td>\n",
       "      <td>int64</td>\n",
       "      <td>84</td>\n",
       "    </tr>\n",
       "    <tr>\n",
       "      <th>26</th>\n",
       "      <td>promo2_since</td>\n",
       "      <td>datetime64[ns]</td>\n",
       "      <td>2015-07-27 00:00:00</td>\n",
       "    </tr>\n",
       "  </tbody>\n",
       "</table>\n",
       "</div>"
      ],
      "text/plain": [
       "                          column            type            first_row\n",
       "0                          store           int64                    1\n",
       "1                    day_of_week           int64                    5\n",
       "2                           date  datetime64[ns]  2015-07-31 00:00:00\n",
       "3                          sales           int64                 5263\n",
       "4                      customers           int64                  555\n",
       "5                           open           int64                    1\n",
       "6                          promo           int64                    1\n",
       "7                  state_holiday          object          regular_day\n",
       "8                 school_holiday           int64                    1\n",
       "9                     store_type          object                    c\n",
       "10                    assortment          object                basic\n",
       "11          competition_distance           int64                 1270\n",
       "12  competition_open_since_month           int64                    9\n",
       "13   competition_open_since_year           int64                 2008\n",
       "14                        promo2           int64                    0\n",
       "15             promo2_since_week           int64                   31\n",
       "16             promo2_since_year           int64                 2015\n",
       "17                promo_interval          object                    0\n",
       "18                     month_map          object                  Jul\n",
       "19                      is_promo           int64                    0\n",
       "20                          year           int64                 2015\n",
       "21                         month           int64                    7\n",
       "22                           day           int64                   31\n",
       "23                  week_of_year          UInt32                   31\n",
       "24             competition_since  datetime64[ns]  2008-09-01 00:00:00\n",
       "25        competition_time_month           int64                   84\n",
       "26                  promo2_since  datetime64[ns]  2015-07-27 00:00:00"
      ]
     },
     "metadata": {},
     "output_type": "display_data"
    }
   ],
   "source": [
    "dtypes = data.dtypes.reset_index()\n",
    "dtypes.columns = ['column', 'type']\n",
    "dtypes['first_row'] = data.head(1).T.reset_index()[0]\n",
    "display(dtypes)"
   ]
  },
  {
   "cell_type": "markdown",
   "id": "bd1d55e6",
   "metadata": {},
   "source": [
    "\n",
    "# Exploratory Data Analysis\n",
    "\n",
    "Now, the dataset is ready for exploratory analyses. For summarizing real estate prices, we adopted the median as the central tendency measure, since the means may be skewed due to the presence of extreme values."
   ]
  },
  {
   "cell_type": "code",
   "execution_count": 28,
   "id": "7f0048d0",
   "metadata": {},
   "outputs": [
    {
     "name": "stdout",
     "output_type": "stream",
     "text": [
      "Rows: 1017209\n",
      "Columns: 27\n"
     ]
    },
    {
     "data": {
      "text/html": [
       "<div>\n",
       "<style scoped>\n",
       "    .dataframe tbody tr th:only-of-type {\n",
       "        vertical-align: middle;\n",
       "    }\n",
       "\n",
       "    .dataframe tbody tr th {\n",
       "        vertical-align: top;\n",
       "    }\n",
       "\n",
       "    .dataframe thead th {\n",
       "        text-align: right;\n",
       "    }\n",
       "</style>\n",
       "<table border=\"1\" class=\"dataframe\">\n",
       "  <thead>\n",
       "    <tr style=\"text-align: right;\">\n",
       "      <th></th>\n",
       "      <th>store</th>\n",
       "      <th>day_of_week</th>\n",
       "      <th>date</th>\n",
       "      <th>sales</th>\n",
       "      <th>customers</th>\n",
       "      <th>open</th>\n",
       "      <th>promo</th>\n",
       "      <th>state_holiday</th>\n",
       "      <th>school_holiday</th>\n",
       "      <th>store_type</th>\n",
       "      <th>...</th>\n",
       "      <th>promo_interval</th>\n",
       "      <th>month_map</th>\n",
       "      <th>is_promo</th>\n",
       "      <th>year</th>\n",
       "      <th>month</th>\n",
       "      <th>day</th>\n",
       "      <th>week_of_year</th>\n",
       "      <th>competition_since</th>\n",
       "      <th>competition_time_month</th>\n",
       "      <th>promo2_since</th>\n",
       "    </tr>\n",
       "  </thead>\n",
       "  <tbody>\n",
       "    <tr>\n",
       "      <th>0</th>\n",
       "      <td>1</td>\n",
       "      <td>5</td>\n",
       "      <td>2015-07-31</td>\n",
       "      <td>5263</td>\n",
       "      <td>555</td>\n",
       "      <td>1</td>\n",
       "      <td>1</td>\n",
       "      <td>regular_day</td>\n",
       "      <td>1</td>\n",
       "      <td>c</td>\n",
       "      <td>...</td>\n",
       "      <td>0</td>\n",
       "      <td>Jul</td>\n",
       "      <td>0</td>\n",
       "      <td>2015</td>\n",
       "      <td>7</td>\n",
       "      <td>31</td>\n",
       "      <td>31</td>\n",
       "      <td>2008-09-01</td>\n",
       "      <td>84</td>\n",
       "      <td>2015-07-27</td>\n",
       "    </tr>\n",
       "    <tr>\n",
       "      <th>1</th>\n",
       "      <td>2</td>\n",
       "      <td>5</td>\n",
       "      <td>2015-07-31</td>\n",
       "      <td>6064</td>\n",
       "      <td>625</td>\n",
       "      <td>1</td>\n",
       "      <td>1</td>\n",
       "      <td>regular_day</td>\n",
       "      <td>1</td>\n",
       "      <td>a</td>\n",
       "      <td>...</td>\n",
       "      <td>Jan,Apr,Jul,Oct</td>\n",
       "      <td>Jul</td>\n",
       "      <td>1</td>\n",
       "      <td>2015</td>\n",
       "      <td>7</td>\n",
       "      <td>31</td>\n",
       "      <td>31</td>\n",
       "      <td>2007-11-01</td>\n",
       "      <td>94</td>\n",
       "      <td>2010-03-22</td>\n",
       "    </tr>\n",
       "    <tr>\n",
       "      <th>2</th>\n",
       "      <td>3</td>\n",
       "      <td>5</td>\n",
       "      <td>2015-07-31</td>\n",
       "      <td>8314</td>\n",
       "      <td>821</td>\n",
       "      <td>1</td>\n",
       "      <td>1</td>\n",
       "      <td>regular_day</td>\n",
       "      <td>1</td>\n",
       "      <td>a</td>\n",
       "      <td>...</td>\n",
       "      <td>Jan,Apr,Jul,Oct</td>\n",
       "      <td>Jul</td>\n",
       "      <td>1</td>\n",
       "      <td>2015</td>\n",
       "      <td>7</td>\n",
       "      <td>31</td>\n",
       "      <td>31</td>\n",
       "      <td>2006-12-01</td>\n",
       "      <td>105</td>\n",
       "      <td>2011-03-28</td>\n",
       "    </tr>\n",
       "    <tr>\n",
       "      <th>3</th>\n",
       "      <td>4</td>\n",
       "      <td>5</td>\n",
       "      <td>2015-07-31</td>\n",
       "      <td>13995</td>\n",
       "      <td>1498</td>\n",
       "      <td>1</td>\n",
       "      <td>1</td>\n",
       "      <td>regular_day</td>\n",
       "      <td>1</td>\n",
       "      <td>c</td>\n",
       "      <td>...</td>\n",
       "      <td>0</td>\n",
       "      <td>Jul</td>\n",
       "      <td>0</td>\n",
       "      <td>2015</td>\n",
       "      <td>7</td>\n",
       "      <td>31</td>\n",
       "      <td>31</td>\n",
       "      <td>2009-09-01</td>\n",
       "      <td>71</td>\n",
       "      <td>2015-07-27</td>\n",
       "    </tr>\n",
       "    <tr>\n",
       "      <th>4</th>\n",
       "      <td>5</td>\n",
       "      <td>5</td>\n",
       "      <td>2015-07-31</td>\n",
       "      <td>4822</td>\n",
       "      <td>559</td>\n",
       "      <td>1</td>\n",
       "      <td>1</td>\n",
       "      <td>regular_day</td>\n",
       "      <td>1</td>\n",
       "      <td>a</td>\n",
       "      <td>...</td>\n",
       "      <td>0</td>\n",
       "      <td>Jul</td>\n",
       "      <td>0</td>\n",
       "      <td>2015</td>\n",
       "      <td>7</td>\n",
       "      <td>31</td>\n",
       "      <td>31</td>\n",
       "      <td>2015-04-01</td>\n",
       "      <td>4</td>\n",
       "      <td>2015-07-27</td>\n",
       "    </tr>\n",
       "  </tbody>\n",
       "</table>\n",
       "<p>5 rows × 27 columns</p>\n",
       "</div>"
      ],
      "text/plain": [
       "   store  day_of_week       date  sales  customers  open  promo state_holiday  \\\n",
       "0      1            5 2015-07-31   5263        555     1      1   regular_day   \n",
       "1      2            5 2015-07-31   6064        625     1      1   regular_day   \n",
       "2      3            5 2015-07-31   8314        821     1      1   regular_day   \n",
       "3      4            5 2015-07-31  13995       1498     1      1   regular_day   \n",
       "4      5            5 2015-07-31   4822        559     1      1   regular_day   \n",
       "\n",
       "   school_holiday store_type  ...   promo_interval  month_map  is_promo  year  \\\n",
       "0               1          c  ...                0        Jul         0  2015   \n",
       "1               1          a  ...  Jan,Apr,Jul,Oct        Jul         1  2015   \n",
       "2               1          a  ...  Jan,Apr,Jul,Oct        Jul         1  2015   \n",
       "3               1          c  ...                0        Jul         0  2015   \n",
       "4               1          a  ...                0        Jul         0  2015   \n",
       "\n",
       "   month  day  week_of_year competition_since competition_time_month  \\\n",
       "0      7   31            31        2008-09-01                     84   \n",
       "1      7   31            31        2007-11-01                     94   \n",
       "2      7   31            31        2006-12-01                    105   \n",
       "3      7   31            31        2009-09-01                     71   \n",
       "4      7   31            31        2015-04-01                      4   \n",
       "\n",
       "   promo2_since  \n",
       "0    2015-07-27  \n",
       "1    2010-03-22  \n",
       "2    2011-03-28  \n",
       "3    2015-07-27  \n",
       "4    2015-07-27  \n",
       "\n",
       "[5 rows x 27 columns]"
      ]
     },
     "metadata": {},
     "output_type": "display_data"
    }
   ],
   "source": [
    "# Overview of the data\n",
    "print('Rows:', data.shape[0])\n",
    "print('Columns:', data.shape[1])\n",
    "display( data.head())"
   ]
  },
  {
   "cell_type": "markdown",
   "id": "8771180f",
   "metadata": {},
   "source": [
    "### Overview"
   ]
  },
  {
   "cell_type": "code",
   "execution_count": 29,
   "id": "09daee16",
   "metadata": {},
   "outputs": [
    {
     "data": {
      "text/html": [
       "<div>\n",
       "<style scoped>\n",
       "    .dataframe tbody tr th:only-of-type {\n",
       "        vertical-align: middle;\n",
       "    }\n",
       "\n",
       "    .dataframe tbody tr th {\n",
       "        vertical-align: top;\n",
       "    }\n",
       "\n",
       "    .dataframe thead th {\n",
       "        text-align: right;\n",
       "    }\n",
       "</style>\n",
       "<table border=\"1\" class=\"dataframe\">\n",
       "  <thead>\n",
       "    <tr style=\"text-align: right;\">\n",
       "      <th></th>\n",
       "      <th>count</th>\n",
       "      <th>mean</th>\n",
       "      <th>std</th>\n",
       "      <th>min</th>\n",
       "      <th>25%</th>\n",
       "      <th>50%</th>\n",
       "      <th>75%</th>\n",
       "      <th>max</th>\n",
       "      <th>skew</th>\n",
       "      <th>kurtosis</th>\n",
       "    </tr>\n",
       "  </thead>\n",
       "  <tbody>\n",
       "    <tr>\n",
       "      <th>store</th>\n",
       "      <td>1017209.00</td>\n",
       "      <td>558.43</td>\n",
       "      <td>321.91</td>\n",
       "      <td>1.00</td>\n",
       "      <td>280.00</td>\n",
       "      <td>558.00</td>\n",
       "      <td>838.00</td>\n",
       "      <td>1115.00</td>\n",
       "      <td>-0.00</td>\n",
       "      <td>-1.20</td>\n",
       "    </tr>\n",
       "    <tr>\n",
       "      <th>day_of_week</th>\n",
       "      <td>1017209.00</td>\n",
       "      <td>4.00</td>\n",
       "      <td>2.00</td>\n",
       "      <td>1.00</td>\n",
       "      <td>2.00</td>\n",
       "      <td>4.00</td>\n",
       "      <td>6.00</td>\n",
       "      <td>7.00</td>\n",
       "      <td>0.00</td>\n",
       "      <td>-1.25</td>\n",
       "    </tr>\n",
       "    <tr>\n",
       "      <th>sales</th>\n",
       "      <td>1017209.00</td>\n",
       "      <td>5773.82</td>\n",
       "      <td>3849.93</td>\n",
       "      <td>0.00</td>\n",
       "      <td>3727.00</td>\n",
       "      <td>5744.00</td>\n",
       "      <td>7856.00</td>\n",
       "      <td>41551.00</td>\n",
       "      <td>0.64</td>\n",
       "      <td>1.78</td>\n",
       "    </tr>\n",
       "    <tr>\n",
       "      <th>customers</th>\n",
       "      <td>1017209.00</td>\n",
       "      <td>633.15</td>\n",
       "      <td>464.41</td>\n",
       "      <td>0.00</td>\n",
       "      <td>405.00</td>\n",
       "      <td>609.00</td>\n",
       "      <td>837.00</td>\n",
       "      <td>7388.00</td>\n",
       "      <td>1.60</td>\n",
       "      <td>7.09</td>\n",
       "    </tr>\n",
       "    <tr>\n",
       "      <th>open</th>\n",
       "      <td>1017209.00</td>\n",
       "      <td>0.83</td>\n",
       "      <td>0.38</td>\n",
       "      <td>0.00</td>\n",
       "      <td>1.00</td>\n",
       "      <td>1.00</td>\n",
       "      <td>1.00</td>\n",
       "      <td>1.00</td>\n",
       "      <td>-1.76</td>\n",
       "      <td>1.09</td>\n",
       "    </tr>\n",
       "    <tr>\n",
       "      <th>promo</th>\n",
       "      <td>1017209.00</td>\n",
       "      <td>0.38</td>\n",
       "      <td>0.49</td>\n",
       "      <td>0.00</td>\n",
       "      <td>0.00</td>\n",
       "      <td>0.00</td>\n",
       "      <td>1.00</td>\n",
       "      <td>1.00</td>\n",
       "      <td>0.49</td>\n",
       "      <td>-1.76</td>\n",
       "    </tr>\n",
       "    <tr>\n",
       "      <th>school_holiday</th>\n",
       "      <td>1017209.00</td>\n",
       "      <td>0.18</td>\n",
       "      <td>0.38</td>\n",
       "      <td>0.00</td>\n",
       "      <td>0.00</td>\n",
       "      <td>0.00</td>\n",
       "      <td>0.00</td>\n",
       "      <td>1.00</td>\n",
       "      <td>1.68</td>\n",
       "      <td>0.82</td>\n",
       "    </tr>\n",
       "    <tr>\n",
       "      <th>competition_distance</th>\n",
       "      <td>1017209.00</td>\n",
       "      <td>5810.04</td>\n",
       "      <td>10715.01</td>\n",
       "      <td>20.00</td>\n",
       "      <td>710.00</td>\n",
       "      <td>2330.00</td>\n",
       "      <td>6910.00</td>\n",
       "      <td>151720.00</td>\n",
       "      <td>7.59</td>\n",
       "      <td>90.45</td>\n",
       "    </tr>\n",
       "    <tr>\n",
       "      <th>competition_open_since_month</th>\n",
       "      <td>1017209.00</td>\n",
       "      <td>7.15</td>\n",
       "      <td>2.65</td>\n",
       "      <td>1.00</td>\n",
       "      <td>6.00</td>\n",
       "      <td>7.00</td>\n",
       "      <td>9.00</td>\n",
       "      <td>12.00</td>\n",
       "      <td>-0.13</td>\n",
       "      <td>-0.46</td>\n",
       "    </tr>\n",
       "    <tr>\n",
       "      <th>competition_open_since_year</th>\n",
       "      <td>1017209.00</td>\n",
       "      <td>2010.70</td>\n",
       "      <td>5.76</td>\n",
       "      <td>1900.00</td>\n",
       "      <td>2008.00</td>\n",
       "      <td>2012.00</td>\n",
       "      <td>2015.00</td>\n",
       "      <td>2015.00</td>\n",
       "      <td>-6.47</td>\n",
       "      <td>105.88</td>\n",
       "    </tr>\n",
       "    <tr>\n",
       "      <th>promo2</th>\n",
       "      <td>1017209.00</td>\n",
       "      <td>0.50</td>\n",
       "      <td>0.50</td>\n",
       "      <td>0.00</td>\n",
       "      <td>0.00</td>\n",
       "      <td>1.00</td>\n",
       "      <td>1.00</td>\n",
       "      <td>1.00</td>\n",
       "      <td>-0.00</td>\n",
       "      <td>-2.00</td>\n",
       "    </tr>\n",
       "    <tr>\n",
       "      <th>promo2_since_week</th>\n",
       "      <td>1017209.00</td>\n",
       "      <td>23.62</td>\n",
       "      <td>14.31</td>\n",
       "      <td>1.00</td>\n",
       "      <td>12.00</td>\n",
       "      <td>22.00</td>\n",
       "      <td>37.00</td>\n",
       "      <td>52.00</td>\n",
       "      <td>0.18</td>\n",
       "      <td>-1.18</td>\n",
       "    </tr>\n",
       "    <tr>\n",
       "      <th>promo2_since_year</th>\n",
       "      <td>1017209.00</td>\n",
       "      <td>2012.80</td>\n",
       "      <td>1.66</td>\n",
       "      <td>2009.00</td>\n",
       "      <td>2012.00</td>\n",
       "      <td>2013.00</td>\n",
       "      <td>2014.00</td>\n",
       "      <td>2015.00</td>\n",
       "      <td>-0.78</td>\n",
       "      <td>-0.21</td>\n",
       "    </tr>\n",
       "    <tr>\n",
       "      <th>is_promo</th>\n",
       "      <td>1017209.00</td>\n",
       "      <td>0.50</td>\n",
       "      <td>0.50</td>\n",
       "      <td>0.00</td>\n",
       "      <td>0.00</td>\n",
       "      <td>1.00</td>\n",
       "      <td>1.00</td>\n",
       "      <td>1.00</td>\n",
       "      <td>-0.00</td>\n",
       "      <td>-2.00</td>\n",
       "    </tr>\n",
       "    <tr>\n",
       "      <th>year</th>\n",
       "      <td>1017209.00</td>\n",
       "      <td>2013.83</td>\n",
       "      <td>0.78</td>\n",
       "      <td>2013.00</td>\n",
       "      <td>2013.00</td>\n",
       "      <td>2014.00</td>\n",
       "      <td>2014.00</td>\n",
       "      <td>2015.00</td>\n",
       "      <td>0.30</td>\n",
       "      <td>-1.29</td>\n",
       "    </tr>\n",
       "    <tr>\n",
       "      <th>month</th>\n",
       "      <td>1017209.00</td>\n",
       "      <td>5.85</td>\n",
       "      <td>3.33</td>\n",
       "      <td>1.00</td>\n",
       "      <td>3.00</td>\n",
       "      <td>6.00</td>\n",
       "      <td>8.00</td>\n",
       "      <td>12.00</td>\n",
       "      <td>0.27</td>\n",
       "      <td>-1.02</td>\n",
       "    </tr>\n",
       "    <tr>\n",
       "      <th>day</th>\n",
       "      <td>1017209.00</td>\n",
       "      <td>15.70</td>\n",
       "      <td>8.79</td>\n",
       "      <td>1.00</td>\n",
       "      <td>8.00</td>\n",
       "      <td>16.00</td>\n",
       "      <td>23.00</td>\n",
       "      <td>31.00</td>\n",
       "      <td>0.01</td>\n",
       "      <td>-1.19</td>\n",
       "    </tr>\n",
       "    <tr>\n",
       "      <th>competition_time_month</th>\n",
       "      <td>1017209.00</td>\n",
       "      <td>37.25</td>\n",
       "      <td>70.23</td>\n",
       "      <td>-31.00</td>\n",
       "      <td>-9.00</td>\n",
       "      <td>17.00</td>\n",
       "      <td>74.00</td>\n",
       "      <td>1407.00</td>\n",
       "      <td>6.47</td>\n",
       "      <td>106.28</td>\n",
       "    </tr>\n",
       "  </tbody>\n",
       "</table>\n",
       "</div>"
      ],
      "text/plain": [
       "                                  count    mean      std     min     25%  \\\n",
       "store                        1017209.00  558.43   321.91    1.00  280.00   \n",
       "day_of_week                  1017209.00    4.00     2.00    1.00    2.00   \n",
       "sales                        1017209.00 5773.82  3849.93    0.00 3727.00   \n",
       "customers                    1017209.00  633.15   464.41    0.00  405.00   \n",
       "open                         1017209.00    0.83     0.38    0.00    1.00   \n",
       "promo                        1017209.00    0.38     0.49    0.00    0.00   \n",
       "school_holiday               1017209.00    0.18     0.38    0.00    0.00   \n",
       "competition_distance         1017209.00 5810.04 10715.01   20.00  710.00   \n",
       "competition_open_since_month 1017209.00    7.15     2.65    1.00    6.00   \n",
       "competition_open_since_year  1017209.00 2010.70     5.76 1900.00 2008.00   \n",
       "promo2                       1017209.00    0.50     0.50    0.00    0.00   \n",
       "promo2_since_week            1017209.00   23.62    14.31    1.00   12.00   \n",
       "promo2_since_year            1017209.00 2012.80     1.66 2009.00 2012.00   \n",
       "is_promo                     1017209.00    0.50     0.50    0.00    0.00   \n",
       "year                         1017209.00 2013.83     0.78 2013.00 2013.00   \n",
       "month                        1017209.00    5.85     3.33    1.00    3.00   \n",
       "day                          1017209.00   15.70     8.79    1.00    8.00   \n",
       "competition_time_month       1017209.00   37.25    70.23  -31.00   -9.00   \n",
       "\n",
       "                                 50%     75%       max  skew  kurtosis  \n",
       "store                         558.00  838.00   1115.00 -0.00     -1.20  \n",
       "day_of_week                     4.00    6.00      7.00  0.00     -1.25  \n",
       "sales                        5744.00 7856.00  41551.00  0.64      1.78  \n",
       "customers                     609.00  837.00   7388.00  1.60      7.09  \n",
       "open                            1.00    1.00      1.00 -1.76      1.09  \n",
       "promo                           0.00    1.00      1.00  0.49     -1.76  \n",
       "school_holiday                  0.00    0.00      1.00  1.68      0.82  \n",
       "competition_distance         2330.00 6910.00 151720.00  7.59     90.45  \n",
       "competition_open_since_month    7.00    9.00     12.00 -0.13     -0.46  \n",
       "competition_open_since_year  2012.00 2015.00   2015.00 -6.47    105.88  \n",
       "promo2                          1.00    1.00      1.00 -0.00     -2.00  \n",
       "promo2_since_week              22.00   37.00     52.00  0.18     -1.18  \n",
       "promo2_since_year            2013.00 2014.00   2015.00 -0.78     -0.21  \n",
       "is_promo                        1.00    1.00      1.00 -0.00     -2.00  \n",
       "year                         2014.00 2014.00   2015.00  0.30     -1.29  \n",
       "month                           6.00    8.00     12.00  0.27     -1.02  \n",
       "day                            16.00   23.00     31.00  0.01     -1.19  \n",
       "competition_time_month         17.00   74.00   1407.00  6.47    106.28  "
      ]
     },
     "metadata": {},
     "output_type": "display_data"
    }
   ],
   "source": [
    "num_attributes = data.select_dtypes(include=['int','float']).columns\n",
    "df_aux = data[num_attributes].agg(['skew', 'kurtosis']).T\n",
    "\n",
    "df_descriptive  = data[num_attributes].describe().T\n",
    "df_descriptive = pd.concat([df_descriptive, df_aux], axis=1)\n",
    "display(df_descriptive)"
   ]
  },
  {
   "cell_type": "markdown",
   "id": "83fdb516",
   "metadata": {},
   "source": [
    "### Dates"
   ]
  },
  {
   "cell_type": "markdown",
   "id": "4bc2cd64",
   "metadata": {},
   "source": [
    "#### Date range"
   ]
  },
  {
   "cell_type": "code",
   "execution_count": 30,
   "id": "9c43db3d",
   "metadata": {
    "scrolled": true
   },
   "outputs": [
    {
     "data": {
      "text/html": [
       "<div>\n",
       "<style scoped>\n",
       "    .dataframe tbody tr th:only-of-type {\n",
       "        vertical-align: middle;\n",
       "    }\n",
       "\n",
       "    .dataframe tbody tr th {\n",
       "        vertical-align: top;\n",
       "    }\n",
       "\n",
       "    .dataframe thead th {\n",
       "        text-align: right;\n",
       "    }\n",
       "</style>\n",
       "<table border=\"1\" class=\"dataframe\">\n",
       "  <thead>\n",
       "    <tr style=\"text-align: right;\">\n",
       "      <th></th>\n",
       "      <th>min</th>\n",
       "      <th>25%</th>\n",
       "      <th>50%</th>\n",
       "      <th>75%</th>\n",
       "      <th>max</th>\n",
       "    </tr>\n",
       "  </thead>\n",
       "  <tbody>\n",
       "    <tr>\n",
       "      <th>date</th>\n",
       "      <td>2013-01-01</td>\n",
       "      <td>2013-08-17</td>\n",
       "      <td>2014-04-02</td>\n",
       "      <td>2014-12-12</td>\n",
       "      <td>2015-07-31</td>\n",
       "    </tr>\n",
       "  </tbody>\n",
       "</table>\n",
       "</div>"
      ],
      "text/plain": [
       "            min        25%        50%        75%        max\n",
       "date 2013-01-01 2013-08-17 2014-04-02 2014-12-12 2015-07-31"
      ]
     },
     "execution_count": 30,
     "metadata": {},
     "output_type": "execute_result"
    }
   ],
   "source": [
    "cols = ['min', '25%', '50%', '75%', 'max']\n",
    "data[['date']].describe(datetime_is_numeric=True).T[cols]"
   ]
  },
  {
   "cell_type": "code",
   "execution_count": 31,
   "id": "7a513c6b",
   "metadata": {},
   "outputs": [
    {
     "name": "stdout",
     "output_type": "stream",
     "text": [
      "Number of days: 942\n"
     ]
    }
   ],
   "source": [
    "date_interval = data['date'].max() - data['date'].min()\n",
    "print(f'Number of days:', date_interval.days + 1)"
   ]
  },
  {
   "cell_type": "markdown",
   "id": "6026e13b",
   "metadata": {},
   "source": [
    "#### Weekdays"
   ]
  },
  {
   "cell_type": "code",
   "execution_count": 33,
   "id": "41bd827a",
   "metadata": {},
   "outputs": [
    {
     "data": {
      "text/html": [
       "<div>\n",
       "<style scoped>\n",
       "    .dataframe tbody tr th:only-of-type {\n",
       "        vertical-align: middle;\n",
       "    }\n",
       "\n",
       "    .dataframe tbody tr th {\n",
       "        vertical-align: top;\n",
       "    }\n",
       "\n",
       "    .dataframe thead th {\n",
       "        text-align: right;\n",
       "    }\n",
       "</style>\n",
       "<table border=\"1\" class=\"dataframe\">\n",
       "  <thead>\n",
       "    <tr style=\"text-align: right;\">\n",
       "      <th></th>\n",
       "      <th>day_of_week</th>\n",
       "    </tr>\n",
       "  </thead>\n",
       "  <tbody>\n",
       "    <tr>\n",
       "      <th>2</th>\n",
       "      <td>135</td>\n",
       "    </tr>\n",
       "    <tr>\n",
       "      <th>3</th>\n",
       "      <td>135</td>\n",
       "    </tr>\n",
       "    <tr>\n",
       "      <th>4</th>\n",
       "      <td>135</td>\n",
       "    </tr>\n",
       "    <tr>\n",
       "      <th>5</th>\n",
       "      <td>135</td>\n",
       "    </tr>\n",
       "    <tr>\n",
       "      <th>1</th>\n",
       "      <td>134</td>\n",
       "    </tr>\n",
       "    <tr>\n",
       "      <th>6</th>\n",
       "      <td>134</td>\n",
       "    </tr>\n",
       "    <tr>\n",
       "      <th>7</th>\n",
       "      <td>134</td>\n",
       "    </tr>\n",
       "  </tbody>\n",
       "</table>\n",
       "</div>"
      ],
      "text/plain": [
       "   day_of_week\n",
       "2          135\n",
       "3          135\n",
       "4          135\n",
       "5          135\n",
       "1          134\n",
       "6          134\n",
       "7          134"
      ]
     },
     "execution_count": 33,
     "metadata": {},
     "output_type": "execute_result"
    }
   ],
   "source": [
    "df_weekdays = data[['date', 'day_of_week']].groupby('date').median()\n",
    "df_weekdays['day_of_week'].value_counts().to_frame()"
   ]
  },
  {
   "cell_type": "code",
   "execution_count": null,
   "id": "90de6891",
   "metadata": {},
   "outputs": [],
   "source": []
  },
  {
   "cell_type": "markdown",
   "id": "1cc07f3f",
   "metadata": {},
   "source": [
    "### Number of stores"
   ]
  },
  {
   "cell_type": "code",
   "execution_count": 34,
   "id": "86c56a7d",
   "metadata": {},
   "outputs": [
    {
     "name": "stdout",
     "output_type": "stream",
     "text": [
      "The company has 1115 stores.\n"
     ]
    }
   ],
   "source": [
    "n_stores = len(data['store'].unique())\n",
    "print(f'The company has {n_stores} stores.')"
   ]
  },
  {
   "cell_type": "code",
   "execution_count": 35,
   "id": "7eadb473",
   "metadata": {},
   "outputs": [],
   "source": [
    "# Store by store types\n",
    "df_aux = data[['store', 'store_type']].groupby('store').describe()\n",
    "df_aux = df_aux[[('store_type',    'top')]]\n",
    "df_aux.columns = ['store_type']"
   ]
  },
  {
   "cell_type": "code",
   "execution_count": 36,
   "id": "03966058",
   "metadata": {},
   "outputs": [
    {
     "data": {
      "text/html": [
       "<div>\n",
       "<style scoped>\n",
       "    .dataframe tbody tr th:only-of-type {\n",
       "        vertical-align: middle;\n",
       "    }\n",
       "\n",
       "    .dataframe tbody tr th {\n",
       "        vertical-align: top;\n",
       "    }\n",
       "\n",
       "    .dataframe thead th {\n",
       "        text-align: right;\n",
       "    }\n",
       "</style>\n",
       "<table border=\"1\" class=\"dataframe\">\n",
       "  <thead>\n",
       "    <tr style=\"text-align: right;\">\n",
       "      <th></th>\n",
       "      <th>store_type</th>\n",
       "    </tr>\n",
       "  </thead>\n",
       "  <tbody>\n",
       "    <tr>\n",
       "      <th>a</th>\n",
       "      <td>602</td>\n",
       "    </tr>\n",
       "    <tr>\n",
       "      <th>d</th>\n",
       "      <td>348</td>\n",
       "    </tr>\n",
       "    <tr>\n",
       "      <th>c</th>\n",
       "      <td>148</td>\n",
       "    </tr>\n",
       "    <tr>\n",
       "      <th>b</th>\n",
       "      <td>17</td>\n",
       "    </tr>\n",
       "  </tbody>\n",
       "</table>\n",
       "</div>"
      ],
      "text/plain": [
       "   store_type\n",
       "a         602\n",
       "d         348\n",
       "c         148\n",
       "b          17"
      ]
     },
     "metadata": {},
     "output_type": "display_data"
    }
   ],
   "source": [
    "df_store_types = df_aux['store_type'].value_counts().to_frame()\n",
    "display(df_store_types)"
   ]
  },
  {
   "cell_type": "code",
   "execution_count": 37,
   "id": "124a6bec",
   "metadata": {},
   "outputs": [
    {
     "data": {
      "image/png": "[encoded data removed]",
      "text/plain": [
       "<Figure size 576x396 with 1 Axes>"
      ]
     },
     "metadata": {},
     "output_type": "display_data"
    }
   ],
   "source": [
    "sns.barplot(data=df_store_types, x=df_store_types.index, y='store_type')\n",
    "plt.title('Number of stores of each type')\n",
    "plt.xlabel('Store type')\n",
    "plt.ylabel('Count');"
   ]
  },
  {
   "cell_type": "markdown",
   "id": "cfc48da1",
   "metadata": {},
   "source": [
    "### Open or closed"
   ]
  },
  {
   "cell_type": "code",
   "execution_count": 38,
   "id": "da1dfc28",
   "metadata": {},
   "outputs": [
    {
     "data": {
      "text/html": [
       "<div>\n",
       "<style scoped>\n",
       "    .dataframe tbody tr th:only-of-type {\n",
       "        vertical-align: middle;\n",
       "    }\n",
       "\n",
       "    .dataframe tbody tr th {\n",
       "        vertical-align: top;\n",
       "    }\n",
       "\n",
       "    .dataframe thead th {\n",
       "        text-align: right;\n",
       "    }\n",
       "</style>\n",
       "<table border=\"1\" class=\"dataframe\">\n",
       "  <thead>\n",
       "    <tr style=\"text-align: right;\">\n",
       "      <th></th>\n",
       "      <th>open</th>\n",
       "    </tr>\n",
       "  </thead>\n",
       "  <tbody>\n",
       "    <tr>\n",
       "      <th>1</th>\n",
       "      <td>844392</td>\n",
       "    </tr>\n",
       "    <tr>\n",
       "      <th>0</th>\n",
       "      <td>172817</td>\n",
       "    </tr>\n",
       "  </tbody>\n",
       "</table>\n",
       "</div>"
      ],
      "text/plain": [
       "     open\n",
       "1  844392\n",
       "0  172817"
      ]
     },
     "execution_count": 38,
     "metadata": {},
     "output_type": "execute_result"
    }
   ],
   "source": [
    "data['open'].value_counts().to_frame()"
   ]
  },
  {
   "cell_type": "markdown",
   "id": "5ce78dbd",
   "metadata": {},
   "source": [
    "<b>Note:</b> In fact, number of sales and customers were '0' when the stores were closed."
   ]
  },
  {
   "cell_type": "code",
   "execution_count": 39,
   "id": "5de4f0c2",
   "metadata": {},
   "outputs": [
    {
     "data": {
      "text/plain": [
       "0"
      ]
     },
     "execution_count": 39,
     "metadata": {},
     "output_type": "execute_result"
    }
   ],
   "source": [
    "data.loc[data['open']==0, 'sales'].sum()"
   ]
  },
  {
   "cell_type": "code",
   "execution_count": 40,
   "id": "2697f914",
   "metadata": {},
   "outputs": [
    {
     "data": {
      "text/plain": [
       "0"
      ]
     },
     "execution_count": 40,
     "metadata": {},
     "output_type": "execute_result"
    }
   ],
   "source": [
    "data.loc[data['open']==0, 'customers'].sum()"
   ]
  },
  {
   "cell_type": "markdown",
   "id": "df0ed10e",
   "metadata": {},
   "source": [
    "### Customers"
   ]
  },
  {
   "cell_type": "code",
   "execution_count": 54,
   "id": "42155483",
   "metadata": {},
   "outputs": [
    {
     "data": {
      "text/html": [
       "<div>\n",
       "<style scoped>\n",
       "    .dataframe tbody tr th:only-of-type {\n",
       "        vertical-align: middle;\n",
       "    }\n",
       "\n",
       "    .dataframe tbody tr th {\n",
       "        vertical-align: top;\n",
       "    }\n",
       "\n",
       "    .dataframe thead th {\n",
       "        text-align: right;\n",
       "    }\n",
       "</style>\n",
       "<table border=\"1\" class=\"dataframe\">\n",
       "  <thead>\n",
       "    <tr style=\"text-align: right;\">\n",
       "      <th></th>\n",
       "      <th>count</th>\n",
       "      <th>mean</th>\n",
       "      <th>std</th>\n",
       "      <th>min</th>\n",
       "      <th>25%</th>\n",
       "      <th>50%</th>\n",
       "      <th>75%</th>\n",
       "      <th>max</th>\n",
       "    </tr>\n",
       "  </thead>\n",
       "  <tbody>\n",
       "    <tr>\n",
       "      <th>customers</th>\n",
       "      <td>844340.00</td>\n",
       "      <td>762.78</td>\n",
       "      <td>401.20</td>\n",
       "      <td>3.00</td>\n",
       "      <td>519.00</td>\n",
       "      <td>676.00</td>\n",
       "      <td>893.00</td>\n",
       "      <td>7388.00</td>\n",
       "    </tr>\n",
       "  </tbody>\n",
       "</table>\n",
       "</div>"
      ],
      "text/plain": [
       "              count   mean    std  min    25%    50%    75%     max\n",
       "customers 844340.00 762.78 401.20 3.00 519.00 676.00 893.00 7388.00"
      ]
     },
     "execution_count": 54,
     "metadata": {},
     "output_type": "execute_result"
    }
   ],
   "source": [
    "df_aux = data[data['customers']>0]\n",
    "\n",
    "df_aux[['customers']].describe().T"
   ]
  },
  {
   "cell_type": "code",
   "execution_count": 57,
   "id": "5d9f4434",
   "metadata": {},
   "outputs": [
    {
     "data": {
      "text/html": [
       "<div>\n",
       "<style scoped>\n",
       "    .dataframe tbody tr th:only-of-type {\n",
       "        vertical-align: middle;\n",
       "    }\n",
       "\n",
       "    .dataframe tbody tr th {\n",
       "        vertical-align: top;\n",
       "    }\n",
       "\n",
       "    .dataframe thead tr th {\n",
       "        text-align: left;\n",
       "    }\n",
       "\n",
       "    .dataframe thead tr:last-of-type th {\n",
       "        text-align: right;\n",
       "    }\n",
       "</style>\n",
       "<table border=\"1\" class=\"dataframe\">\n",
       "  <thead>\n",
       "    <tr>\n",
       "      <th></th>\n",
       "      <th colspan=\"8\" halign=\"left\">customers</th>\n",
       "    </tr>\n",
       "    <tr>\n",
       "      <th></th>\n",
       "      <th>count</th>\n",
       "      <th>mean</th>\n",
       "      <th>std</th>\n",
       "      <th>min</th>\n",
       "      <th>25%</th>\n",
       "      <th>50%</th>\n",
       "      <th>75%</th>\n",
       "      <th>max</th>\n",
       "    </tr>\n",
       "    <tr>\n",
       "      <th>store_type</th>\n",
       "      <th></th>\n",
       "      <th></th>\n",
       "      <th></th>\n",
       "      <th></th>\n",
       "      <th></th>\n",
       "      <th></th>\n",
       "      <th></th>\n",
       "      <th></th>\n",
       "    </tr>\n",
       "  </thead>\n",
       "  <tbody>\n",
       "    <tr>\n",
       "      <th>a</th>\n",
       "      <td>457043.00</td>\n",
       "      <td>795.42</td>\n",
       "      <td>387.52</td>\n",
       "      <td>3.00</td>\n",
       "      <td>547.00</td>\n",
       "      <td>720.00</td>\n",
       "      <td>949.00</td>\n",
       "      <td>7388.00</td>\n",
       "    </tr>\n",
       "    <tr>\n",
       "      <th>b</th>\n",
       "      <td>15561.00</td>\n",
       "      <td>2022.08</td>\n",
       "      <td>910.80</td>\n",
       "      <td>5.00</td>\n",
       "      <td>1255.00</td>\n",
       "      <td>1839.00</td>\n",
       "      <td>2751.00</td>\n",
       "      <td>5494.00</td>\n",
       "    </tr>\n",
       "    <tr>\n",
       "      <th>c</th>\n",
       "      <td>112968.00</td>\n",
       "      <td>815.54</td>\n",
       "      <td>329.67</td>\n",
       "      <td>18.00</td>\n",
       "      <td>583.00</td>\n",
       "      <td>756.00</td>\n",
       "      <td>981.00</td>\n",
       "      <td>3096.00</td>\n",
       "    </tr>\n",
       "    <tr>\n",
       "      <th>d</th>\n",
       "      <td>258768.00</td>\n",
       "      <td>606.35</td>\n",
       "      <td>199.25</td>\n",
       "      <td>64.00</td>\n",
       "      <td>464.00</td>\n",
       "      <td>577.00</td>\n",
       "      <td>716.00</td>\n",
       "      <td>2239.00</td>\n",
       "    </tr>\n",
       "  </tbody>\n",
       "</table>\n",
       "</div>"
      ],
      "text/plain": [
       "           customers                                                     \n",
       "               count    mean    std   min     25%     50%     75%     max\n",
       "store_type                                                               \n",
       "a          457043.00  795.42 387.52  3.00  547.00  720.00  949.00 7388.00\n",
       "b           15561.00 2022.08 910.80  5.00 1255.00 1839.00 2751.00 5494.00\n",
       "c          112968.00  815.54 329.67 18.00  583.00  756.00  981.00 3096.00\n",
       "d          258768.00  606.35 199.25 64.00  464.00  577.00  716.00 2239.00"
      ]
     },
     "execution_count": 57,
     "metadata": {},
     "output_type": "execute_result"
    }
   ],
   "source": [
    "df_aux[['customers', 'store_type']].groupby('store_type').describe()"
   ]
  },
  {
   "cell_type": "code",
   "execution_count": 63,
   "id": "4a8e203d",
   "metadata": {},
   "outputs": [
    {
     "data": {
      "text/plain": [
       "Index(['store', 'day_of_week', 'date', 'sales', 'customers', 'open', 'promo',\n",
       "       'state_holiday', 'school_holiday', 'store_type', 'assortment',\n",
       "       'competition_distance', 'competition_open_since_month',\n",
       "       'competition_open_since_year', 'promo2', 'promo2_since_week',\n",
       "       'promo2_since_year', 'promo_interval', 'month_map', 'is_promo', 'year',\n",
       "       'month', 'day', 'week_of_year', 'competition_since',\n",
       "       'competition_time_month', 'promo2_since'],\n",
       "      dtype='object')"
      ]
     },
     "execution_count": 63,
     "metadata": {},
     "output_type": "execute_result"
    }
   ],
   "source": [
    "df_aux.columns"
   ]
  },
  {
   "cell_type": "code",
   "execution_count": 64,
   "id": "7a81b4fa",
   "metadata": {},
   "outputs": [
    {
     "data": {
      "text/html": [
       "<div>\n",
       "<style scoped>\n",
       "    .dataframe tbody tr th:only-of-type {\n",
       "        vertical-align: middle;\n",
       "    }\n",
       "\n",
       "    .dataframe tbody tr th {\n",
       "        vertical-align: top;\n",
       "    }\n",
       "\n",
       "    .dataframe thead tr th {\n",
       "        text-align: left;\n",
       "    }\n",
       "\n",
       "    .dataframe thead tr:last-of-type th {\n",
       "        text-align: right;\n",
       "    }\n",
       "</style>\n",
       "<table border=\"1\" class=\"dataframe\">\n",
       "  <thead>\n",
       "    <tr>\n",
       "      <th></th>\n",
       "      <th colspan=\"8\" halign=\"left\">customers</th>\n",
       "    </tr>\n",
       "    <tr>\n",
       "      <th></th>\n",
       "      <th>count</th>\n",
       "      <th>mean</th>\n",
       "      <th>std</th>\n",
       "      <th>min</th>\n",
       "      <th>25%</th>\n",
       "      <th>50%</th>\n",
       "      <th>75%</th>\n",
       "      <th>max</th>\n",
       "    </tr>\n",
       "    <tr>\n",
       "      <th>state_holiday</th>\n",
       "      <th></th>\n",
       "      <th></th>\n",
       "      <th></th>\n",
       "      <th></th>\n",
       "      <th></th>\n",
       "      <th></th>\n",
       "      <th></th>\n",
       "      <th></th>\n",
       "    </tr>\n",
       "  </thead>\n",
       "  <tbody>\n",
       "    <tr>\n",
       "      <th>christimas_holiday</th>\n",
       "      <td>71.00</td>\n",
       "      <td>1569.23</td>\n",
       "      <td>884.91</td>\n",
       "      <td>190.00</td>\n",
       "      <td>890.50</td>\n",
       "      <td>1394.00</td>\n",
       "      <td>2093.00</td>\n",
       "      <td>4468.00</td>\n",
       "    </tr>\n",
       "    <tr>\n",
       "      <th>easter_holiday</th>\n",
       "      <td>145.00</td>\n",
       "      <td>1686.89</td>\n",
       "      <td>1234.62</td>\n",
       "      <td>116.00</td>\n",
       "      <td>559.00</td>\n",
       "      <td>1554.00</td>\n",
       "      <td>2498.00</td>\n",
       "      <td>5152.00</td>\n",
       "    </tr>\n",
       "    <tr>\n",
       "      <th>public_holiday</th>\n",
       "      <td>694.00</td>\n",
       "      <td>1279.17</td>\n",
       "      <td>1018.37</td>\n",
       "      <td>129.00</td>\n",
       "      <td>600.00</td>\n",
       "      <td>887.00</td>\n",
       "      <td>1752.50</td>\n",
       "      <td>5494.00</td>\n",
       "    </tr>\n",
       "    <tr>\n",
       "      <th>regular_day</th>\n",
       "      <td>843430.00</td>\n",
       "      <td>762.12</td>\n",
       "      <td>399.42</td>\n",
       "      <td>3.00</td>\n",
       "      <td>519.00</td>\n",
       "      <td>675.00</td>\n",
       "      <td>893.00</td>\n",
       "      <td>7388.00</td>\n",
       "    </tr>\n",
       "  </tbody>\n",
       "</table>\n",
       "</div>"
      ],
      "text/plain": [
       "                   customers                                                \\\n",
       "                       count    mean     std    min    25%     50%     75%   \n",
       "state_holiday                                                                \n",
       "christimas_holiday     71.00 1569.23  884.91 190.00 890.50 1394.00 2093.00   \n",
       "easter_holiday        145.00 1686.89 1234.62 116.00 559.00 1554.00 2498.00   \n",
       "public_holiday        694.00 1279.17 1018.37 129.00 600.00  887.00 1752.50   \n",
       "regular_day        843430.00  762.12  399.42   3.00 519.00  675.00  893.00   \n",
       "\n",
       "                            \n",
       "                       max  \n",
       "state_holiday               \n",
       "christimas_holiday 4468.00  \n",
       "easter_holiday     5152.00  \n",
       "public_holiday     5494.00  \n",
       "regular_day        7388.00  "
      ]
     },
     "execution_count": 64,
     "metadata": {},
     "output_type": "execute_result"
    }
   ],
   "source": [
    "df_aux[['customers', 'state_holiday']].groupby('state_holiday').describe()"
   ]
  },
  {
   "cell_type": "code",
   "execution_count": 51,
   "id": "142abe0a",
   "metadata": {},
   "outputs": [
    {
     "data": {
      "text/plain": [
       "<AxesSubplot:xlabel='customers', ylabel='Count'>"
      ]
     },
     "execution_count": 51,
     "metadata": {},
     "output_type": "execute_result"
    },
    {
     "data": {
      "image/png": "[encoded data removed]",
      "text/plain": [
       "<Figure size 576x396 with 1 Axes>"
      ]
     },
     "metadata": {},
     "output_type": "display_data"
    }
   ],
   "source": [
    "sns.histplot(data=df_aux, x='customers');"
   ]
  },
  {
   "cell_type": "code",
   "execution_count": 52,
   "id": "d25ba1ce",
   "metadata": {},
   "outputs": [
    {
     "data": {
      "image/png": "[encoded data removed]",
      "text/plain": [
       "<Figure size 576x396 with 1 Axes>"
      ]
     },
     "metadata": {},
     "output_type": "display_data"
    }
   ],
   "source": [
    "sns.histplot(data=df_aux, x='customers', hue='store_type');"
   ]
  },
  {
   "cell_type": "code",
   "execution_count": 59,
   "id": "00c914c6",
   "metadata": {},
   "outputs": [
    {
     "data": {
      "text/plain": [
       "<AxesSubplot:xlabel='store_type', ylabel='customers'>"
      ]
     },
     "execution_count": 59,
     "metadata": {},
     "output_type": "execute_result"
    },
    {
     "data": {
      "image/png": "[encoded data removed]",
      "text/plain": [
       "<Figure size 576x396 with 1 Axes>"
      ]
     },
     "metadata": {},
     "output_type": "display_data"
    }
   ],
   "source": [
    "df_aux = df_aux.sort_values('store_type')\n",
    "sns.barplot(data=df_aux, y='customers', x='store_t')"
   ]
  },
  {
   "cell_type": "code",
   "execution_count": 60,
   "id": "13be4e84",
   "metadata": {},
   "outputs": [
    {
     "data": {
      "text/plain": [
       "<AxesSubplot:xlabel='state_holiday', ylabel='customers'>"
      ]
     },
     "execution_count": 60,
     "metadata": {},
     "output_type": "execute_result"
    },
    {
     "data": {
      "image/png": "[encoded data removed]",
      "text/plain": [
       "<Figure size 576x396 with 1 Axes>"
      ]
     },
     "metadata": {},
     "output_type": "display_data"
    }
   ],
   "source": [
    "df_aux = df_aux.sort_values('state_holiday')\n",
    "sns.barplot(data=df_aux, y='customers', x='state_holiday')"
   ]
  },
  {
   "cell_type": "markdown",
   "id": "4707153e",
   "metadata": {},
   "source": [
    "### Sales"
   ]
  },
  {
   "cell_type": "code",
   "execution_count": 66,
   "id": "ef1fe713",
   "metadata": {},
   "outputs": [
    {
     "data": {
      "text/html": [
       "<div>\n",
       "<style scoped>\n",
       "    .dataframe tbody tr th:only-of-type {\n",
       "        vertical-align: middle;\n",
       "    }\n",
       "\n",
       "    .dataframe tbody tr th {\n",
       "        vertical-align: top;\n",
       "    }\n",
       "\n",
       "    .dataframe thead th {\n",
       "        text-align: right;\n",
       "    }\n",
       "</style>\n",
       "<table border=\"1\" class=\"dataframe\">\n",
       "  <thead>\n",
       "    <tr style=\"text-align: right;\">\n",
       "      <th></th>\n",
       "      <th>count</th>\n",
       "      <th>mean</th>\n",
       "      <th>std</th>\n",
       "      <th>min</th>\n",
       "      <th>25%</th>\n",
       "      <th>50%</th>\n",
       "      <th>75%</th>\n",
       "      <th>max</th>\n",
       "    </tr>\n",
       "  </thead>\n",
       "  <tbody>\n",
       "    <tr>\n",
       "      <th>sales</th>\n",
       "      <td>1017209.00</td>\n",
       "      <td>5773.82</td>\n",
       "      <td>3849.93</td>\n",
       "      <td>0.00</td>\n",
       "      <td>3727.00</td>\n",
       "      <td>5744.00</td>\n",
       "      <td>7856.00</td>\n",
       "      <td>41551.00</td>\n",
       "    </tr>\n",
       "  </tbody>\n",
       "</table>\n",
       "</div>"
      ],
      "text/plain": [
       "           count    mean     std  min     25%     50%     75%      max\n",
       "sales 1017209.00 5773.82 3849.93 0.00 3727.00 5744.00 7856.00 41551.00"
      ]
     },
     "execution_count": 66,
     "metadata": {},
     "output_type": "execute_result"
    }
   ],
   "source": [
    "data[['sales']].describe().T"
   ]
  },
  {
   "cell_type": "code",
   "execution_count": 67,
   "id": "233d2109",
   "metadata": {},
   "outputs": [
    {
     "data": {
      "image/png": "[encoded data removed]",
      "text/plain": [
       "<Figure size 576x396 with 1 Axes>"
      ]
     },
     "metadata": {},
     "output_type": "display_data"
    }
   ],
   "source": [
    "sns.boxplot(data=data, y='sales');"
   ]
  },
  {
   "cell_type": "code",
   "execution_count": 68,
   "id": "3b6459d0",
   "metadata": {},
   "outputs": [
    {
     "data": {
      "image/png": "[encoded data removed]",
      "text/plain": [
       "<Figure size 1080x432 with 3 Axes>"
      ]
     },
     "metadata": {},
     "output_type": "display_data"
    }
   ],
   "source": [
    "df_aux = data[data['sales']>0]\n",
    "plt.figure(figsize=(15,6))\n",
    "plt.subplot(1, 3, 1)\n",
    "sns.boxplot(data=data, x='store_type', y='sales');\n",
    "\n",
    "plt.subplot(1, 3, 2)\n",
    "sns.boxplot(data=df_aux, x='state_holiday', y='sales')\n",
    "\n",
    "plt.subplot(1, 3, 3)\n",
    "sns.boxplot(data=df_aux, x='assortment', y='sales')\n",
    "plt.tight_layout();"
   ]
  },
  {
   "cell_type": "code",
   "execution_count": null,
   "id": "854e3578",
   "metadata": {},
   "outputs": [],
   "source": [
    "### "
   ]
  },
  {
   "cell_type": "code",
   "execution_count": 69,
   "id": "573fc664",
   "metadata": {},
   "outputs": [
    {
     "name": "stdout",
     "output_type": "stream",
     "text": [
      "Index(['date', 'state_holiday', 'store_type', 'assortment', 'promo_interval',\n",
      "       'month_map', 'week_of_year', 'competition_since', 'promo2_since'],\n",
      "      dtype='object')\n"
     ]
    }
   ],
   "source": [
    "cat_attributes = data.select_dtypes(exclude=['int','float']).columns\n",
    "print(cat_attributes)"
   ]
  },
  {
   "cell_type": "code",
   "execution_count": null,
   "id": "25b862ff",
   "metadata": {},
   "outputs": [],
   "source": [
    "data['assortment'].value_counts()"
   ]
  },
  {
   "cell_type": "code",
   "execution_count": null,
   "id": "38ce9df3",
   "metadata": {},
   "outputs": [],
   "source": [
    "data['assortment'].map({'a':'basic', 'b':'extra', 'c':'extended'})"
   ]
  },
  {
   "cell_type": "markdown",
   "id": "20939a28",
   "metadata": {},
   "source": [
    "# Insights\n",
    "\n",
    "Here, we verify some hypotheses and their possible business implications. "
   ]
  },
  {
   "cell_type": "markdown",
   "id": "08d03f1b",
   "metadata": {},
   "source": [
    "### Hypothesis : The ...\n",
    "\n",
    "<b>False.</b>  .<br> \n",
    "<b>Business implications:</b> "
   ]
  },
  {
   "cell_type": "code",
   "execution_count": null,
   "id": "b92e403b",
   "metadata": {},
   "outputs": [],
   "source": []
  }
 ],
 "metadata": {
  "kernelspec": {
   "display_name": "Python 3",
   "language": "python",
   "name": "python3"
  },
  "language_info": {
   "codemirror_mode": {
    "name": "ipython",
    "version": 3
   },
   "file_extension": ".py",
   "mimetype": "text/x-python",
   "name": "python",
   "nbconvert_exporter": "python",
   "pygments_lexer": "ipython3",
   "version": "3.8.8"
  }
 },
 "nbformat": 4,
 "nbformat_minor": 5
}
